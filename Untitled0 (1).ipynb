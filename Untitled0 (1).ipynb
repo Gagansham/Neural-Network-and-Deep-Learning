{
 "cells": [
  {
   "cell_type": "markdown",
   "metadata": {
    "id": "fo5K_iT3FsmY"
   },
   "source": [
    "#Part A"
   ]
  },
  {
   "cell_type": "code",
   "execution_count": 2,
   "metadata": {
    "colab": {
     "base_uri": "https://localhost:8080/"
    },
    "id": "na7TccZDBNDw",
    "outputId": "10893dd8-1b9b-4de0-eb67-aa28c5c50e3b"
   },
   "outputs": [
    {
     "name": "stdout",
     "output_type": "stream",
     "text": [
      "Mounted at /content/drive/\n"
     ]
    }
   ],
   "source": [
    "from google.colab import drive\n",
    "drive.mount('/content/drive/')"
   ]
  },
  {
   "cell_type": "code",
   "execution_count": 3,
   "metadata": {
    "id": "uMUN-aH9CvH-"
   },
   "outputs": [],
   "source": [
    "import tensorflow as tf\n",
    "import numpy as np\n",
    "import pandas as pd\n",
    "import seaborn as sns\n",
    "import matplotlib.pyplot as plt\n",
    "from tensorflow import keras\n",
    "%matplotlib inline\n",
    "from sklearn.model_selection import train_test_split"
   ]
  },
  {
   "cell_type": "code",
   "execution_count": 4,
   "metadata": {
    "colab": {
     "base_uri": "https://localhost:8080/",
     "height": 206
    },
    "id": "_RO_3ZL6ParG",
    "outputId": "bf5330b9-ddd4-4ca5-f7bb-d30c7a057a9c"
   },
   "outputs": [
    {
     "data": {
      "text/html": [
       "\n",
       "  <div id=\"df-5b0b85a7-c4d4-40fe-829f-b70868317213\">\n",
       "    <div class=\"colab-df-container\">\n",
       "      <div>\n",
       "<style scoped>\n",
       "    .dataframe tbody tr th:only-of-type {\n",
       "        vertical-align: middle;\n",
       "    }\n",
       "\n",
       "    .dataframe tbody tr th {\n",
       "        vertical-align: top;\n",
       "    }\n",
       "\n",
       "    .dataframe thead th {\n",
       "        text-align: right;\n",
       "    }\n",
       "</style>\n",
       "<table border=\"1\" class=\"dataframe\">\n",
       "  <thead>\n",
       "    <tr style=\"text-align: right;\">\n",
       "      <th></th>\n",
       "      <th>Parameter 1</th>\n",
       "      <th>Parameter 2</th>\n",
       "      <th>Parameter 3</th>\n",
       "      <th>Parameter 4</th>\n",
       "      <th>Parameter 5</th>\n",
       "      <th>Parameter 6</th>\n",
       "      <th>Parameter 7</th>\n",
       "      <th>Parameter 8</th>\n",
       "      <th>Parameter 9</th>\n",
       "      <th>Parameter 10</th>\n",
       "      <th>Parameter 11</th>\n",
       "      <th>Signal_Strength</th>\n",
       "    </tr>\n",
       "  </thead>\n",
       "  <tbody>\n",
       "    <tr>\n",
       "      <th>0</th>\n",
       "      <td>7.4</td>\n",
       "      <td>0.70</td>\n",
       "      <td>0.00</td>\n",
       "      <td>1.9</td>\n",
       "      <td>0.076</td>\n",
       "      <td>11.0</td>\n",
       "      <td>34.0</td>\n",
       "      <td>0.9978</td>\n",
       "      <td>3.51</td>\n",
       "      <td>0.56</td>\n",
       "      <td>9.4</td>\n",
       "      <td>5</td>\n",
       "    </tr>\n",
       "    <tr>\n",
       "      <th>1</th>\n",
       "      <td>7.8</td>\n",
       "      <td>0.88</td>\n",
       "      <td>0.00</td>\n",
       "      <td>2.6</td>\n",
       "      <td>0.098</td>\n",
       "      <td>25.0</td>\n",
       "      <td>67.0</td>\n",
       "      <td>0.9968</td>\n",
       "      <td>3.20</td>\n",
       "      <td>0.68</td>\n",
       "      <td>9.8</td>\n",
       "      <td>5</td>\n",
       "    </tr>\n",
       "    <tr>\n",
       "      <th>2</th>\n",
       "      <td>7.8</td>\n",
       "      <td>0.76</td>\n",
       "      <td>0.04</td>\n",
       "      <td>2.3</td>\n",
       "      <td>0.092</td>\n",
       "      <td>15.0</td>\n",
       "      <td>54.0</td>\n",
       "      <td>0.9970</td>\n",
       "      <td>3.26</td>\n",
       "      <td>0.65</td>\n",
       "      <td>9.8</td>\n",
       "      <td>5</td>\n",
       "    </tr>\n",
       "    <tr>\n",
       "      <th>3</th>\n",
       "      <td>11.2</td>\n",
       "      <td>0.28</td>\n",
       "      <td>0.56</td>\n",
       "      <td>1.9</td>\n",
       "      <td>0.075</td>\n",
       "      <td>17.0</td>\n",
       "      <td>60.0</td>\n",
       "      <td>0.9980</td>\n",
       "      <td>3.16</td>\n",
       "      <td>0.58</td>\n",
       "      <td>9.8</td>\n",
       "      <td>6</td>\n",
       "    </tr>\n",
       "    <tr>\n",
       "      <th>4</th>\n",
       "      <td>7.4</td>\n",
       "      <td>0.70</td>\n",
       "      <td>0.00</td>\n",
       "      <td>1.9</td>\n",
       "      <td>0.076</td>\n",
       "      <td>11.0</td>\n",
       "      <td>34.0</td>\n",
       "      <td>0.9978</td>\n",
       "      <td>3.51</td>\n",
       "      <td>0.56</td>\n",
       "      <td>9.4</td>\n",
       "      <td>5</td>\n",
       "    </tr>\n",
       "  </tbody>\n",
       "</table>\n",
       "</div>\n",
       "      <button class=\"colab-df-convert\" onclick=\"convertToInteractive('df-5b0b85a7-c4d4-40fe-829f-b70868317213')\"\n",
       "              title=\"Convert this dataframe to an interactive table.\"\n",
       "              style=\"display:none;\">\n",
       "        \n",
       "  <svg xmlns=\"http://www.w3.org/2000/svg\" height=\"24px\"viewBox=\"0 0 24 24\"\n",
       "       width=\"24px\">\n",
       "    <path d=\"M0 0h24v24H0V0z\" fill=\"none\"/>\n",
       "    <path d=\"M18.56 5.44l.94 2.06.94-2.06 2.06-.94-2.06-.94-.94-2.06-.94 2.06-2.06.94zm-11 1L8.5 8.5l.94-2.06 2.06-.94-2.06-.94L8.5 2.5l-.94 2.06-2.06.94zm10 10l.94 2.06.94-2.06 2.06-.94-2.06-.94-.94-2.06-.94 2.06-2.06.94z\"/><path d=\"M17.41 7.96l-1.37-1.37c-.4-.4-.92-.59-1.43-.59-.52 0-1.04.2-1.43.59L10.3 9.45l-7.72 7.72c-.78.78-.78 2.05 0 2.83L4 21.41c.39.39.9.59 1.41.59.51 0 1.02-.2 1.41-.59l7.78-7.78 2.81-2.81c.8-.78.8-2.07 0-2.86zM5.41 20L4 18.59l7.72-7.72 1.47 1.35L5.41 20z\"/>\n",
       "  </svg>\n",
       "      </button>\n",
       "      \n",
       "  <style>\n",
       "    .colab-df-container {\n",
       "      display:flex;\n",
       "      flex-wrap:wrap;\n",
       "      gap: 12px;\n",
       "    }\n",
       "\n",
       "    .colab-df-convert {\n",
       "      background-color: #E8F0FE;\n",
       "      border: none;\n",
       "      border-radius: 50%;\n",
       "      cursor: pointer;\n",
       "      display: none;\n",
       "      fill: #1967D2;\n",
       "      height: 32px;\n",
       "      padding: 0 0 0 0;\n",
       "      width: 32px;\n",
       "    }\n",
       "\n",
       "    .colab-df-convert:hover {\n",
       "      background-color: #E2EBFA;\n",
       "      box-shadow: 0px 1px 2px rgba(60, 64, 67, 0.3), 0px 1px 3px 1px rgba(60, 64, 67, 0.15);\n",
       "      fill: #174EA6;\n",
       "    }\n",
       "\n",
       "    [theme=dark] .colab-df-convert {\n",
       "      background-color: #3B4455;\n",
       "      fill: #D2E3FC;\n",
       "    }\n",
       "\n",
       "    [theme=dark] .colab-df-convert:hover {\n",
       "      background-color: #434B5C;\n",
       "      box-shadow: 0px 1px 3px 1px rgba(0, 0, 0, 0.15);\n",
       "      filter: drop-shadow(0px 1px 2px rgba(0, 0, 0, 0.3));\n",
       "      fill: #FFFFFF;\n",
       "    }\n",
       "  </style>\n",
       "\n",
       "      <script>\n",
       "        const buttonEl =\n",
       "          document.querySelector('#df-5b0b85a7-c4d4-40fe-829f-b70868317213 button.colab-df-convert');\n",
       "        buttonEl.style.display =\n",
       "          google.colab.kernel.accessAllowed ? 'block' : 'none';\n",
       "\n",
       "        async function convertToInteractive(key) {\n",
       "          const element = document.querySelector('#df-5b0b85a7-c4d4-40fe-829f-b70868317213');\n",
       "          const dataTable =\n",
       "            await google.colab.kernel.invokeFunction('convertToInteractive',\n",
       "                                                     [key], {});\n",
       "          if (!dataTable) return;\n",
       "\n",
       "          const docLinkHtml = 'Like what you see? Visit the ' +\n",
       "            '<a target=\"_blank\" href=https://colab.research.google.com/notebooks/data_table.ipynb>data table notebook</a>'\n",
       "            + ' to learn more about interactive tables.';\n",
       "          element.innerHTML = '';\n",
       "          dataTable['output_type'] = 'display_data';\n",
       "          await google.colab.output.renderOutput(dataTable, element);\n",
       "          const docLink = document.createElement('div');\n",
       "          docLink.innerHTML = docLinkHtml;\n",
       "          element.appendChild(docLink);\n",
       "        }\n",
       "      </script>\n",
       "    </div>\n",
       "  </div>\n",
       "  "
      ],
      "text/plain": [
       "   Parameter 1  Parameter 2  Parameter 3  Parameter 4  Parameter 5  \\\n",
       "0          7.4         0.70         0.00          1.9        0.076   \n",
       "1          7.8         0.88         0.00          2.6        0.098   \n",
       "2          7.8         0.76         0.04          2.3        0.092   \n",
       "3         11.2         0.28         0.56          1.9        0.075   \n",
       "4          7.4         0.70         0.00          1.9        0.076   \n",
       "\n",
       "   Parameter 6  Parameter 7  Parameter 8  Parameter 9  Parameter 10  \\\n",
       "0         11.0         34.0       0.9978         3.51          0.56   \n",
       "1         25.0         67.0       0.9968         3.20          0.68   \n",
       "2         15.0         54.0       0.9970         3.26          0.65   \n",
       "3         17.0         60.0       0.9980         3.16          0.58   \n",
       "4         11.0         34.0       0.9978         3.51          0.56   \n",
       "\n",
       "   Parameter 11  Signal_Strength  \n",
       "0           9.4                5  \n",
       "1           9.8                5  \n",
       "2           9.8                5  \n",
       "3           9.8                6  \n",
       "4           9.4                5  "
      ]
     },
     "execution_count": 4,
     "metadata": {},
     "output_type": "execute_result"
    }
   ],
   "source": [
    "#Read the ‘Signals.csv’ as DataFrame\n",
    "df = pd.read_csv('/content/drive/MyDrive/NN Project Data - Signal.csv')\n",
    "df.head()"
   ]
  },
  {
   "cell_type": "code",
   "execution_count": 5,
   "metadata": {
    "colab": {
     "base_uri": "https://localhost:8080/"
    },
    "id": "WfzobN2iPluW",
    "outputId": "19dd823f-a746-4a2f-bb33-fb9258672c81"
   },
   "outputs": [
    {
     "data": {
      "text/plain": [
       "Parameter 1        0\n",
       "Parameter 2        0\n",
       "Parameter 3        0\n",
       "Parameter 4        0\n",
       "Parameter 5        0\n",
       "Parameter 6        0\n",
       "Parameter 7        0\n",
       "Parameter 8        0\n",
       "Parameter 9        0\n",
       "Parameter 10       0\n",
       "Parameter 11       0\n",
       "Signal_Strength    0\n",
       "dtype: int64"
      ]
     },
     "execution_count": 5,
     "metadata": {},
     "output_type": "execute_result"
    }
   ],
   "source": [
    "# checking for missing value\n",
    "null_value = df.isnull().sum()\n",
    "null_value"
   ]
  },
  {
   "cell_type": "markdown",
   "metadata": {
    "id": "8Cv-_0FDSeXp"
   },
   "source": [
    "There is no missing values"
   ]
  },
  {
   "cell_type": "code",
   "execution_count": 6,
   "metadata": {
    "colab": {
     "base_uri": "https://localhost:8080/",
     "height": 424
    },
    "id": "DIEv6BslRRdi",
    "outputId": "2428c307-8144-4aed-ed19-a656b1f89c47"
   },
   "outputs": [
    {
     "data": {
      "text/html": [
       "\n",
       "  <div id=\"df-5b528742-f3d0-4613-aff1-4b40322d5dbc\">\n",
       "    <div class=\"colab-df-container\">\n",
       "      <div>\n",
       "<style scoped>\n",
       "    .dataframe tbody tr th:only-of-type {\n",
       "        vertical-align: middle;\n",
       "    }\n",
       "\n",
       "    .dataframe tbody tr th {\n",
       "        vertical-align: top;\n",
       "    }\n",
       "\n",
       "    .dataframe thead th {\n",
       "        text-align: right;\n",
       "    }\n",
       "</style>\n",
       "<table border=\"1\" class=\"dataframe\">\n",
       "  <thead>\n",
       "    <tr style=\"text-align: right;\">\n",
       "      <th></th>\n",
       "      <th>Parameter 1</th>\n",
       "      <th>Parameter 2</th>\n",
       "      <th>Parameter 3</th>\n",
       "      <th>Parameter 4</th>\n",
       "      <th>Parameter 5</th>\n",
       "      <th>Parameter 6</th>\n",
       "      <th>Parameter 7</th>\n",
       "      <th>Parameter 8</th>\n",
       "      <th>Parameter 9</th>\n",
       "      <th>Parameter 10</th>\n",
       "      <th>Parameter 11</th>\n",
       "      <th>Signal_Strength</th>\n",
       "    </tr>\n",
       "  </thead>\n",
       "  <tbody>\n",
       "    <tr>\n",
       "      <th>4</th>\n",
       "      <td>7.4</td>\n",
       "      <td>0.700</td>\n",
       "      <td>0.00</td>\n",
       "      <td>1.90</td>\n",
       "      <td>0.076</td>\n",
       "      <td>11.0</td>\n",
       "      <td>34.0</td>\n",
       "      <td>0.99780</td>\n",
       "      <td>3.51</td>\n",
       "      <td>0.56</td>\n",
       "      <td>9.4</td>\n",
       "      <td>5</td>\n",
       "    </tr>\n",
       "    <tr>\n",
       "      <th>11</th>\n",
       "      <td>7.5</td>\n",
       "      <td>0.500</td>\n",
       "      <td>0.36</td>\n",
       "      <td>6.10</td>\n",
       "      <td>0.071</td>\n",
       "      <td>17.0</td>\n",
       "      <td>102.0</td>\n",
       "      <td>0.99780</td>\n",
       "      <td>3.35</td>\n",
       "      <td>0.80</td>\n",
       "      <td>10.5</td>\n",
       "      <td>5</td>\n",
       "    </tr>\n",
       "    <tr>\n",
       "      <th>27</th>\n",
       "      <td>7.9</td>\n",
       "      <td>0.430</td>\n",
       "      <td>0.21</td>\n",
       "      <td>1.60</td>\n",
       "      <td>0.106</td>\n",
       "      <td>10.0</td>\n",
       "      <td>37.0</td>\n",
       "      <td>0.99660</td>\n",
       "      <td>3.17</td>\n",
       "      <td>0.91</td>\n",
       "      <td>9.5</td>\n",
       "      <td>5</td>\n",
       "    </tr>\n",
       "    <tr>\n",
       "      <th>40</th>\n",
       "      <td>7.3</td>\n",
       "      <td>0.450</td>\n",
       "      <td>0.36</td>\n",
       "      <td>5.90</td>\n",
       "      <td>0.074</td>\n",
       "      <td>12.0</td>\n",
       "      <td>87.0</td>\n",
       "      <td>0.99780</td>\n",
       "      <td>3.33</td>\n",
       "      <td>0.83</td>\n",
       "      <td>10.5</td>\n",
       "      <td>5</td>\n",
       "    </tr>\n",
       "    <tr>\n",
       "      <th>65</th>\n",
       "      <td>7.2</td>\n",
       "      <td>0.725</td>\n",
       "      <td>0.05</td>\n",
       "      <td>4.65</td>\n",
       "      <td>0.086</td>\n",
       "      <td>4.0</td>\n",
       "      <td>11.0</td>\n",
       "      <td>0.99620</td>\n",
       "      <td>3.41</td>\n",
       "      <td>0.39</td>\n",
       "      <td>10.9</td>\n",
       "      <td>5</td>\n",
       "    </tr>\n",
       "    <tr>\n",
       "      <th>...</th>\n",
       "      <td>...</td>\n",
       "      <td>...</td>\n",
       "      <td>...</td>\n",
       "      <td>...</td>\n",
       "      <td>...</td>\n",
       "      <td>...</td>\n",
       "      <td>...</td>\n",
       "      <td>...</td>\n",
       "      <td>...</td>\n",
       "      <td>...</td>\n",
       "      <td>...</td>\n",
       "      <td>...</td>\n",
       "    </tr>\n",
       "    <tr>\n",
       "      <th>1563</th>\n",
       "      <td>7.2</td>\n",
       "      <td>0.695</td>\n",
       "      <td>0.13</td>\n",
       "      <td>2.00</td>\n",
       "      <td>0.076</td>\n",
       "      <td>12.0</td>\n",
       "      <td>20.0</td>\n",
       "      <td>0.99546</td>\n",
       "      <td>3.29</td>\n",
       "      <td>0.54</td>\n",
       "      <td>10.1</td>\n",
       "      <td>5</td>\n",
       "    </tr>\n",
       "    <tr>\n",
       "      <th>1564</th>\n",
       "      <td>7.2</td>\n",
       "      <td>0.695</td>\n",
       "      <td>0.13</td>\n",
       "      <td>2.00</td>\n",
       "      <td>0.076</td>\n",
       "      <td>12.0</td>\n",
       "      <td>20.0</td>\n",
       "      <td>0.99546</td>\n",
       "      <td>3.29</td>\n",
       "      <td>0.54</td>\n",
       "      <td>10.1</td>\n",
       "      <td>5</td>\n",
       "    </tr>\n",
       "    <tr>\n",
       "      <th>1567</th>\n",
       "      <td>7.2</td>\n",
       "      <td>0.695</td>\n",
       "      <td>0.13</td>\n",
       "      <td>2.00</td>\n",
       "      <td>0.076</td>\n",
       "      <td>12.0</td>\n",
       "      <td>20.0</td>\n",
       "      <td>0.99546</td>\n",
       "      <td>3.29</td>\n",
       "      <td>0.54</td>\n",
       "      <td>10.1</td>\n",
       "      <td>5</td>\n",
       "    </tr>\n",
       "    <tr>\n",
       "      <th>1581</th>\n",
       "      <td>6.2</td>\n",
       "      <td>0.560</td>\n",
       "      <td>0.09</td>\n",
       "      <td>1.70</td>\n",
       "      <td>0.053</td>\n",
       "      <td>24.0</td>\n",
       "      <td>32.0</td>\n",
       "      <td>0.99402</td>\n",
       "      <td>3.54</td>\n",
       "      <td>0.60</td>\n",
       "      <td>11.3</td>\n",
       "      <td>5</td>\n",
       "    </tr>\n",
       "    <tr>\n",
       "      <th>1596</th>\n",
       "      <td>6.3</td>\n",
       "      <td>0.510</td>\n",
       "      <td>0.13</td>\n",
       "      <td>2.30</td>\n",
       "      <td>0.076</td>\n",
       "      <td>29.0</td>\n",
       "      <td>40.0</td>\n",
       "      <td>0.99574</td>\n",
       "      <td>3.42</td>\n",
       "      <td>0.75</td>\n",
       "      <td>11.0</td>\n",
       "      <td>6</td>\n",
       "    </tr>\n",
       "  </tbody>\n",
       "</table>\n",
       "<p>240 rows × 12 columns</p>\n",
       "</div>\n",
       "      <button class=\"colab-df-convert\" onclick=\"convertToInteractive('df-5b528742-f3d0-4613-aff1-4b40322d5dbc')\"\n",
       "              title=\"Convert this dataframe to an interactive table.\"\n",
       "              style=\"display:none;\">\n",
       "        \n",
       "  <svg xmlns=\"http://www.w3.org/2000/svg\" height=\"24px\"viewBox=\"0 0 24 24\"\n",
       "       width=\"24px\">\n",
       "    <path d=\"M0 0h24v24H0V0z\" fill=\"none\"/>\n",
       "    <path d=\"M18.56 5.44l.94 2.06.94-2.06 2.06-.94-2.06-.94-.94-2.06-.94 2.06-2.06.94zm-11 1L8.5 8.5l.94-2.06 2.06-.94-2.06-.94L8.5 2.5l-.94 2.06-2.06.94zm10 10l.94 2.06.94-2.06 2.06-.94-2.06-.94-.94-2.06-.94 2.06-2.06.94z\"/><path d=\"M17.41 7.96l-1.37-1.37c-.4-.4-.92-.59-1.43-.59-.52 0-1.04.2-1.43.59L10.3 9.45l-7.72 7.72c-.78.78-.78 2.05 0 2.83L4 21.41c.39.39.9.59 1.41.59.51 0 1.02-.2 1.41-.59l7.78-7.78 2.81-2.81c.8-.78.8-2.07 0-2.86zM5.41 20L4 18.59l7.72-7.72 1.47 1.35L5.41 20z\"/>\n",
       "  </svg>\n",
       "      </button>\n",
       "      \n",
       "  <style>\n",
       "    .colab-df-container {\n",
       "      display:flex;\n",
       "      flex-wrap:wrap;\n",
       "      gap: 12px;\n",
       "    }\n",
       "\n",
       "    .colab-df-convert {\n",
       "      background-color: #E8F0FE;\n",
       "      border: none;\n",
       "      border-radius: 50%;\n",
       "      cursor: pointer;\n",
       "      display: none;\n",
       "      fill: #1967D2;\n",
       "      height: 32px;\n",
       "      padding: 0 0 0 0;\n",
       "      width: 32px;\n",
       "    }\n",
       "\n",
       "    .colab-df-convert:hover {\n",
       "      background-color: #E2EBFA;\n",
       "      box-shadow: 0px 1px 2px rgba(60, 64, 67, 0.3), 0px 1px 3px 1px rgba(60, 64, 67, 0.15);\n",
       "      fill: #174EA6;\n",
       "    }\n",
       "\n",
       "    [theme=dark] .colab-df-convert {\n",
       "      background-color: #3B4455;\n",
       "      fill: #D2E3FC;\n",
       "    }\n",
       "\n",
       "    [theme=dark] .colab-df-convert:hover {\n",
       "      background-color: #434B5C;\n",
       "      box-shadow: 0px 1px 3px 1px rgba(0, 0, 0, 0.15);\n",
       "      filter: drop-shadow(0px 1px 2px rgba(0, 0, 0, 0.3));\n",
       "      fill: #FFFFFF;\n",
       "    }\n",
       "  </style>\n",
       "\n",
       "      <script>\n",
       "        const buttonEl =\n",
       "          document.querySelector('#df-5b528742-f3d0-4613-aff1-4b40322d5dbc button.colab-df-convert');\n",
       "        buttonEl.style.display =\n",
       "          google.colab.kernel.accessAllowed ? 'block' : 'none';\n",
       "\n",
       "        async function convertToInteractive(key) {\n",
       "          const element = document.querySelector('#df-5b528742-f3d0-4613-aff1-4b40322d5dbc');\n",
       "          const dataTable =\n",
       "            await google.colab.kernel.invokeFunction('convertToInteractive',\n",
       "                                                     [key], {});\n",
       "          if (!dataTable) return;\n",
       "\n",
       "          const docLinkHtml = 'Like what you see? Visit the ' +\n",
       "            '<a target=\"_blank\" href=https://colab.research.google.com/notebooks/data_table.ipynb>data table notebook</a>'\n",
       "            + ' to learn more about interactive tables.';\n",
       "          element.innerHTML = '';\n",
       "          dataTable['output_type'] = 'display_data';\n",
       "          await google.colab.output.renderOutput(dataTable, element);\n",
       "          const docLink = document.createElement('div');\n",
       "          docLink.innerHTML = docLinkHtml;\n",
       "          element.appendChild(docLink);\n",
       "        }\n",
       "      </script>\n",
       "    </div>\n",
       "  </div>\n",
       "  "
      ],
      "text/plain": [
       "      Parameter 1  Parameter 2  Parameter 3  Parameter 4  Parameter 5  \\\n",
       "4             7.4        0.700         0.00         1.90        0.076   \n",
       "11            7.5        0.500         0.36         6.10        0.071   \n",
       "27            7.9        0.430         0.21         1.60        0.106   \n",
       "40            7.3        0.450         0.36         5.90        0.074   \n",
       "65            7.2        0.725         0.05         4.65        0.086   \n",
       "...           ...          ...          ...          ...          ...   \n",
       "1563          7.2        0.695         0.13         2.00        0.076   \n",
       "1564          7.2        0.695         0.13         2.00        0.076   \n",
       "1567          7.2        0.695         0.13         2.00        0.076   \n",
       "1581          6.2        0.560         0.09         1.70        0.053   \n",
       "1596          6.3        0.510         0.13         2.30        0.076   \n",
       "\n",
       "      Parameter 6  Parameter 7  Parameter 8  Parameter 9  Parameter 10  \\\n",
       "4            11.0         34.0      0.99780         3.51          0.56   \n",
       "11           17.0        102.0      0.99780         3.35          0.80   \n",
       "27           10.0         37.0      0.99660         3.17          0.91   \n",
       "40           12.0         87.0      0.99780         3.33          0.83   \n",
       "65            4.0         11.0      0.99620         3.41          0.39   \n",
       "...           ...          ...          ...          ...           ...   \n",
       "1563         12.0         20.0      0.99546         3.29          0.54   \n",
       "1564         12.0         20.0      0.99546         3.29          0.54   \n",
       "1567         12.0         20.0      0.99546         3.29          0.54   \n",
       "1581         24.0         32.0      0.99402         3.54          0.60   \n",
       "1596         29.0         40.0      0.99574         3.42          0.75   \n",
       "\n",
       "      Parameter 11  Signal_Strength  \n",
       "4              9.4                5  \n",
       "11            10.5                5  \n",
       "27             9.5                5  \n",
       "40            10.5                5  \n",
       "65            10.9                5  \n",
       "...            ...              ...  \n",
       "1563          10.1                5  \n",
       "1564          10.1                5  \n",
       "1567          10.1                5  \n",
       "1581          11.3                5  \n",
       "1596          11.0                6  \n",
       "\n",
       "[240 rows x 12 columns]"
      ]
     },
     "execution_count": 6,
     "metadata": {},
     "output_type": "execute_result"
    }
   ],
   "source": [
    "#Check for presence of duplicate records\n",
    "dup = df[df.duplicated()]\n",
    "dup"
   ]
  },
  {
   "cell_type": "markdown",
   "metadata": {
    "id": "_452SEEwVFD3"
   },
   "source": [
    "There are 240 duplicate rows."
   ]
  },
  {
   "cell_type": "code",
   "execution_count": 7,
   "metadata": {
    "colab": {
     "base_uri": "https://localhost:8080/"
    },
    "id": "MErgeQDYT_FH",
    "outputId": "345cedf3-ad18-42a5-abdd-8198fe3650dc"
   },
   "outputs": [
    {
     "data": {
      "text/plain": [
       "(1599, 12)"
      ]
     },
     "execution_count": 7,
     "metadata": {},
     "output_type": "execute_result"
    }
   ],
   "source": [
    "df.shape"
   ]
  },
  {
   "cell_type": "code",
   "execution_count": 8,
   "metadata": {
    "colab": {
     "base_uri": "https://localhost:8080/",
     "height": 424
    },
    "id": "pA1FD5o9UDfr",
    "outputId": "aeb88ff2-f135-44b0-a14d-5a6579b9bd39"
   },
   "outputs": [
    {
     "data": {
      "text/html": [
       "\n",
       "  <div id=\"df-8844ecef-8175-4afc-b077-60c0a5ad9ca7\">\n",
       "    <div class=\"colab-df-container\">\n",
       "      <div>\n",
       "<style scoped>\n",
       "    .dataframe tbody tr th:only-of-type {\n",
       "        vertical-align: middle;\n",
       "    }\n",
       "\n",
       "    .dataframe tbody tr th {\n",
       "        vertical-align: top;\n",
       "    }\n",
       "\n",
       "    .dataframe thead th {\n",
       "        text-align: right;\n",
       "    }\n",
       "</style>\n",
       "<table border=\"1\" class=\"dataframe\">\n",
       "  <thead>\n",
       "    <tr style=\"text-align: right;\">\n",
       "      <th></th>\n",
       "      <th>Parameter 1</th>\n",
       "      <th>Parameter 2</th>\n",
       "      <th>Parameter 3</th>\n",
       "      <th>Parameter 4</th>\n",
       "      <th>Parameter 5</th>\n",
       "      <th>Parameter 6</th>\n",
       "      <th>Parameter 7</th>\n",
       "      <th>Parameter 8</th>\n",
       "      <th>Parameter 9</th>\n",
       "      <th>Parameter 10</th>\n",
       "      <th>Parameter 11</th>\n",
       "      <th>Signal_Strength</th>\n",
       "    </tr>\n",
       "  </thead>\n",
       "  <tbody>\n",
       "    <tr>\n",
       "      <th>0</th>\n",
       "      <td>7.4</td>\n",
       "      <td>0.700</td>\n",
       "      <td>0.00</td>\n",
       "      <td>1.9</td>\n",
       "      <td>0.076</td>\n",
       "      <td>11.0</td>\n",
       "      <td>34.0</td>\n",
       "      <td>0.99780</td>\n",
       "      <td>3.51</td>\n",
       "      <td>0.56</td>\n",
       "      <td>9.4</td>\n",
       "      <td>5</td>\n",
       "    </tr>\n",
       "    <tr>\n",
       "      <th>1</th>\n",
       "      <td>7.8</td>\n",
       "      <td>0.880</td>\n",
       "      <td>0.00</td>\n",
       "      <td>2.6</td>\n",
       "      <td>0.098</td>\n",
       "      <td>25.0</td>\n",
       "      <td>67.0</td>\n",
       "      <td>0.99680</td>\n",
       "      <td>3.20</td>\n",
       "      <td>0.68</td>\n",
       "      <td>9.8</td>\n",
       "      <td>5</td>\n",
       "    </tr>\n",
       "    <tr>\n",
       "      <th>2</th>\n",
       "      <td>7.8</td>\n",
       "      <td>0.760</td>\n",
       "      <td>0.04</td>\n",
       "      <td>2.3</td>\n",
       "      <td>0.092</td>\n",
       "      <td>15.0</td>\n",
       "      <td>54.0</td>\n",
       "      <td>0.99700</td>\n",
       "      <td>3.26</td>\n",
       "      <td>0.65</td>\n",
       "      <td>9.8</td>\n",
       "      <td>5</td>\n",
       "    </tr>\n",
       "    <tr>\n",
       "      <th>3</th>\n",
       "      <td>11.2</td>\n",
       "      <td>0.280</td>\n",
       "      <td>0.56</td>\n",
       "      <td>1.9</td>\n",
       "      <td>0.075</td>\n",
       "      <td>17.0</td>\n",
       "      <td>60.0</td>\n",
       "      <td>0.99800</td>\n",
       "      <td>3.16</td>\n",
       "      <td>0.58</td>\n",
       "      <td>9.8</td>\n",
       "      <td>6</td>\n",
       "    </tr>\n",
       "    <tr>\n",
       "      <th>5</th>\n",
       "      <td>7.4</td>\n",
       "      <td>0.660</td>\n",
       "      <td>0.00</td>\n",
       "      <td>1.8</td>\n",
       "      <td>0.075</td>\n",
       "      <td>13.0</td>\n",
       "      <td>40.0</td>\n",
       "      <td>0.99780</td>\n",
       "      <td>3.51</td>\n",
       "      <td>0.56</td>\n",
       "      <td>9.4</td>\n",
       "      <td>5</td>\n",
       "    </tr>\n",
       "    <tr>\n",
       "      <th>...</th>\n",
       "      <td>...</td>\n",
       "      <td>...</td>\n",
       "      <td>...</td>\n",
       "      <td>...</td>\n",
       "      <td>...</td>\n",
       "      <td>...</td>\n",
       "      <td>...</td>\n",
       "      <td>...</td>\n",
       "      <td>...</td>\n",
       "      <td>...</td>\n",
       "      <td>...</td>\n",
       "      <td>...</td>\n",
       "    </tr>\n",
       "    <tr>\n",
       "      <th>1593</th>\n",
       "      <td>6.8</td>\n",
       "      <td>0.620</td>\n",
       "      <td>0.08</td>\n",
       "      <td>1.9</td>\n",
       "      <td>0.068</td>\n",
       "      <td>28.0</td>\n",
       "      <td>38.0</td>\n",
       "      <td>0.99651</td>\n",
       "      <td>3.42</td>\n",
       "      <td>0.82</td>\n",
       "      <td>9.5</td>\n",
       "      <td>6</td>\n",
       "    </tr>\n",
       "    <tr>\n",
       "      <th>1594</th>\n",
       "      <td>6.2</td>\n",
       "      <td>0.600</td>\n",
       "      <td>0.08</td>\n",
       "      <td>2.0</td>\n",
       "      <td>0.090</td>\n",
       "      <td>32.0</td>\n",
       "      <td>44.0</td>\n",
       "      <td>0.99490</td>\n",
       "      <td>3.45</td>\n",
       "      <td>0.58</td>\n",
       "      <td>10.5</td>\n",
       "      <td>5</td>\n",
       "    </tr>\n",
       "    <tr>\n",
       "      <th>1595</th>\n",
       "      <td>5.9</td>\n",
       "      <td>0.550</td>\n",
       "      <td>0.10</td>\n",
       "      <td>2.2</td>\n",
       "      <td>0.062</td>\n",
       "      <td>39.0</td>\n",
       "      <td>51.0</td>\n",
       "      <td>0.99512</td>\n",
       "      <td>3.52</td>\n",
       "      <td>0.76</td>\n",
       "      <td>11.2</td>\n",
       "      <td>6</td>\n",
       "    </tr>\n",
       "    <tr>\n",
       "      <th>1597</th>\n",
       "      <td>5.9</td>\n",
       "      <td>0.645</td>\n",
       "      <td>0.12</td>\n",
       "      <td>2.0</td>\n",
       "      <td>0.075</td>\n",
       "      <td>32.0</td>\n",
       "      <td>44.0</td>\n",
       "      <td>0.99547</td>\n",
       "      <td>3.57</td>\n",
       "      <td>0.71</td>\n",
       "      <td>10.2</td>\n",
       "      <td>5</td>\n",
       "    </tr>\n",
       "    <tr>\n",
       "      <th>1598</th>\n",
       "      <td>6.0</td>\n",
       "      <td>0.310</td>\n",
       "      <td>0.47</td>\n",
       "      <td>3.6</td>\n",
       "      <td>0.067</td>\n",
       "      <td>18.0</td>\n",
       "      <td>42.0</td>\n",
       "      <td>0.99549</td>\n",
       "      <td>3.39</td>\n",
       "      <td>0.66</td>\n",
       "      <td>11.0</td>\n",
       "      <td>6</td>\n",
       "    </tr>\n",
       "  </tbody>\n",
       "</table>\n",
       "<p>1359 rows × 12 columns</p>\n",
       "</div>\n",
       "      <button class=\"colab-df-convert\" onclick=\"convertToInteractive('df-8844ecef-8175-4afc-b077-60c0a5ad9ca7')\"\n",
       "              title=\"Convert this dataframe to an interactive table.\"\n",
       "              style=\"display:none;\">\n",
       "        \n",
       "  <svg xmlns=\"http://www.w3.org/2000/svg\" height=\"24px\"viewBox=\"0 0 24 24\"\n",
       "       width=\"24px\">\n",
       "    <path d=\"M0 0h24v24H0V0z\" fill=\"none\"/>\n",
       "    <path d=\"M18.56 5.44l.94 2.06.94-2.06 2.06-.94-2.06-.94-.94-2.06-.94 2.06-2.06.94zm-11 1L8.5 8.5l.94-2.06 2.06-.94-2.06-.94L8.5 2.5l-.94 2.06-2.06.94zm10 10l.94 2.06.94-2.06 2.06-.94-2.06-.94-.94-2.06-.94 2.06-2.06.94z\"/><path d=\"M17.41 7.96l-1.37-1.37c-.4-.4-.92-.59-1.43-.59-.52 0-1.04.2-1.43.59L10.3 9.45l-7.72 7.72c-.78.78-.78 2.05 0 2.83L4 21.41c.39.39.9.59 1.41.59.51 0 1.02-.2 1.41-.59l7.78-7.78 2.81-2.81c.8-.78.8-2.07 0-2.86zM5.41 20L4 18.59l7.72-7.72 1.47 1.35L5.41 20z\"/>\n",
       "  </svg>\n",
       "      </button>\n",
       "      \n",
       "  <style>\n",
       "    .colab-df-container {\n",
       "      display:flex;\n",
       "      flex-wrap:wrap;\n",
       "      gap: 12px;\n",
       "    }\n",
       "\n",
       "    .colab-df-convert {\n",
       "      background-color: #E8F0FE;\n",
       "      border: none;\n",
       "      border-radius: 50%;\n",
       "      cursor: pointer;\n",
       "      display: none;\n",
       "      fill: #1967D2;\n",
       "      height: 32px;\n",
       "      padding: 0 0 0 0;\n",
       "      width: 32px;\n",
       "    }\n",
       "\n",
       "    .colab-df-convert:hover {\n",
       "      background-color: #E2EBFA;\n",
       "      box-shadow: 0px 1px 2px rgba(60, 64, 67, 0.3), 0px 1px 3px 1px rgba(60, 64, 67, 0.15);\n",
       "      fill: #174EA6;\n",
       "    }\n",
       "\n",
       "    [theme=dark] .colab-df-convert {\n",
       "      background-color: #3B4455;\n",
       "      fill: #D2E3FC;\n",
       "    }\n",
       "\n",
       "    [theme=dark] .colab-df-convert:hover {\n",
       "      background-color: #434B5C;\n",
       "      box-shadow: 0px 1px 3px 1px rgba(0, 0, 0, 0.15);\n",
       "      filter: drop-shadow(0px 1px 2px rgba(0, 0, 0, 0.3));\n",
       "      fill: #FFFFFF;\n",
       "    }\n",
       "  </style>\n",
       "\n",
       "      <script>\n",
       "        const buttonEl =\n",
       "          document.querySelector('#df-8844ecef-8175-4afc-b077-60c0a5ad9ca7 button.colab-df-convert');\n",
       "        buttonEl.style.display =\n",
       "          google.colab.kernel.accessAllowed ? 'block' : 'none';\n",
       "\n",
       "        async function convertToInteractive(key) {\n",
       "          const element = document.querySelector('#df-8844ecef-8175-4afc-b077-60c0a5ad9ca7');\n",
       "          const dataTable =\n",
       "            await google.colab.kernel.invokeFunction('convertToInteractive',\n",
       "                                                     [key], {});\n",
       "          if (!dataTable) return;\n",
       "\n",
       "          const docLinkHtml = 'Like what you see? Visit the ' +\n",
       "            '<a target=\"_blank\" href=https://colab.research.google.com/notebooks/data_table.ipynb>data table notebook</a>'\n",
       "            + ' to learn more about interactive tables.';\n",
       "          element.innerHTML = '';\n",
       "          dataTable['output_type'] = 'display_data';\n",
       "          await google.colab.output.renderOutput(dataTable, element);\n",
       "          const docLink = document.createElement('div');\n",
       "          docLink.innerHTML = docLinkHtml;\n",
       "          element.appendChild(docLink);\n",
       "        }\n",
       "      </script>\n",
       "    </div>\n",
       "  </div>\n",
       "  "
      ],
      "text/plain": [
       "      Parameter 1  Parameter 2  Parameter 3  Parameter 4  Parameter 5  \\\n",
       "0             7.4        0.700         0.00          1.9        0.076   \n",
       "1             7.8        0.880         0.00          2.6        0.098   \n",
       "2             7.8        0.760         0.04          2.3        0.092   \n",
       "3            11.2        0.280         0.56          1.9        0.075   \n",
       "5             7.4        0.660         0.00          1.8        0.075   \n",
       "...           ...          ...          ...          ...          ...   \n",
       "1593          6.8        0.620         0.08          1.9        0.068   \n",
       "1594          6.2        0.600         0.08          2.0        0.090   \n",
       "1595          5.9        0.550         0.10          2.2        0.062   \n",
       "1597          5.9        0.645         0.12          2.0        0.075   \n",
       "1598          6.0        0.310         0.47          3.6        0.067   \n",
       "\n",
       "      Parameter 6  Parameter 7  Parameter 8  Parameter 9  Parameter 10  \\\n",
       "0            11.0         34.0      0.99780         3.51          0.56   \n",
       "1            25.0         67.0      0.99680         3.20          0.68   \n",
       "2            15.0         54.0      0.99700         3.26          0.65   \n",
       "3            17.0         60.0      0.99800         3.16          0.58   \n",
       "5            13.0         40.0      0.99780         3.51          0.56   \n",
       "...           ...          ...          ...          ...           ...   \n",
       "1593         28.0         38.0      0.99651         3.42          0.82   \n",
       "1594         32.0         44.0      0.99490         3.45          0.58   \n",
       "1595         39.0         51.0      0.99512         3.52          0.76   \n",
       "1597         32.0         44.0      0.99547         3.57          0.71   \n",
       "1598         18.0         42.0      0.99549         3.39          0.66   \n",
       "\n",
       "      Parameter 11  Signal_Strength  \n",
       "0              9.4                5  \n",
       "1              9.8                5  \n",
       "2              9.8                5  \n",
       "3              9.8                6  \n",
       "5              9.4                5  \n",
       "...            ...              ...  \n",
       "1593           9.5                6  \n",
       "1594          10.5                5  \n",
       "1595          11.2                6  \n",
       "1597          10.2                5  \n",
       "1598          11.0                6  \n",
       "\n",
       "[1359 rows x 12 columns]"
      ]
     },
     "execution_count": 8,
     "metadata": {},
     "output_type": "execute_result"
    }
   ],
   "source": [
    "# dropping duplicate values\n",
    "df.drop_duplicates(inplace=True)\n",
    "df"
   ]
  },
  {
   "cell_type": "code",
   "execution_count": 9,
   "metadata": {
    "colab": {
     "base_uri": "https://localhost:8080/",
     "height": 426
    },
    "id": "_YSY2yY6WNQO",
    "outputId": "b304262a-b06b-44ee-99b4-105bfef8761c"
   },
   "outputs": [
    {
     "data": {
      "text/html": [
       "\n",
       "  <div id=\"df-371040a4-467d-4b4e-b5d6-7b81c5da41a7\">\n",
       "    <div class=\"colab-df-container\">\n",
       "      <div>\n",
       "<style scoped>\n",
       "    .dataframe tbody tr th:only-of-type {\n",
       "        vertical-align: middle;\n",
       "    }\n",
       "\n",
       "    .dataframe tbody tr th {\n",
       "        vertical-align: top;\n",
       "    }\n",
       "\n",
       "    .dataframe thead th {\n",
       "        text-align: right;\n",
       "    }\n",
       "</style>\n",
       "<table border=\"1\" class=\"dataframe\">\n",
       "  <thead>\n",
       "    <tr style=\"text-align: right;\">\n",
       "      <th></th>\n",
       "      <th>count</th>\n",
       "      <th>mean</th>\n",
       "      <th>std</th>\n",
       "      <th>min</th>\n",
       "      <th>25%</th>\n",
       "      <th>50%</th>\n",
       "      <th>75%</th>\n",
       "      <th>max</th>\n",
       "    </tr>\n",
       "  </thead>\n",
       "  <tbody>\n",
       "    <tr>\n",
       "      <th>Parameter 1</th>\n",
       "      <td>1359.0</td>\n",
       "      <td>8.310596</td>\n",
       "      <td>1.736990</td>\n",
       "      <td>4.60000</td>\n",
       "      <td>7.1000</td>\n",
       "      <td>7.9000</td>\n",
       "      <td>9.20000</td>\n",
       "      <td>15.90000</td>\n",
       "    </tr>\n",
       "    <tr>\n",
       "      <th>Parameter 2</th>\n",
       "      <td>1359.0</td>\n",
       "      <td>0.529478</td>\n",
       "      <td>0.183031</td>\n",
       "      <td>0.12000</td>\n",
       "      <td>0.3900</td>\n",
       "      <td>0.5200</td>\n",
       "      <td>0.64000</td>\n",
       "      <td>1.58000</td>\n",
       "    </tr>\n",
       "    <tr>\n",
       "      <th>Parameter 3</th>\n",
       "      <td>1359.0</td>\n",
       "      <td>0.272333</td>\n",
       "      <td>0.195537</td>\n",
       "      <td>0.00000</td>\n",
       "      <td>0.0900</td>\n",
       "      <td>0.2600</td>\n",
       "      <td>0.43000</td>\n",
       "      <td>1.00000</td>\n",
       "    </tr>\n",
       "    <tr>\n",
       "      <th>Parameter 4</th>\n",
       "      <td>1359.0</td>\n",
       "      <td>2.523400</td>\n",
       "      <td>1.352314</td>\n",
       "      <td>0.90000</td>\n",
       "      <td>1.9000</td>\n",
       "      <td>2.2000</td>\n",
       "      <td>2.60000</td>\n",
       "      <td>15.50000</td>\n",
       "    </tr>\n",
       "    <tr>\n",
       "      <th>Parameter 5</th>\n",
       "      <td>1359.0</td>\n",
       "      <td>0.088124</td>\n",
       "      <td>0.049377</td>\n",
       "      <td>0.01200</td>\n",
       "      <td>0.0700</td>\n",
       "      <td>0.0790</td>\n",
       "      <td>0.09100</td>\n",
       "      <td>0.61100</td>\n",
       "    </tr>\n",
       "    <tr>\n",
       "      <th>Parameter 6</th>\n",
       "      <td>1359.0</td>\n",
       "      <td>15.893304</td>\n",
       "      <td>10.447270</td>\n",
       "      <td>1.00000</td>\n",
       "      <td>7.0000</td>\n",
       "      <td>14.0000</td>\n",
       "      <td>21.00000</td>\n",
       "      <td>72.00000</td>\n",
       "    </tr>\n",
       "    <tr>\n",
       "      <th>Parameter 7</th>\n",
       "      <td>1359.0</td>\n",
       "      <td>46.825975</td>\n",
       "      <td>33.408946</td>\n",
       "      <td>6.00000</td>\n",
       "      <td>22.0000</td>\n",
       "      <td>38.0000</td>\n",
       "      <td>63.00000</td>\n",
       "      <td>289.00000</td>\n",
       "    </tr>\n",
       "    <tr>\n",
       "      <th>Parameter 8</th>\n",
       "      <td>1359.0</td>\n",
       "      <td>0.996709</td>\n",
       "      <td>0.001869</td>\n",
       "      <td>0.99007</td>\n",
       "      <td>0.9956</td>\n",
       "      <td>0.9967</td>\n",
       "      <td>0.99782</td>\n",
       "      <td>1.00369</td>\n",
       "    </tr>\n",
       "    <tr>\n",
       "      <th>Parameter 9</th>\n",
       "      <td>1359.0</td>\n",
       "      <td>3.309787</td>\n",
       "      <td>0.155036</td>\n",
       "      <td>2.74000</td>\n",
       "      <td>3.2100</td>\n",
       "      <td>3.3100</td>\n",
       "      <td>3.40000</td>\n",
       "      <td>4.01000</td>\n",
       "    </tr>\n",
       "    <tr>\n",
       "      <th>Parameter 10</th>\n",
       "      <td>1359.0</td>\n",
       "      <td>0.658705</td>\n",
       "      <td>0.170667</td>\n",
       "      <td>0.33000</td>\n",
       "      <td>0.5500</td>\n",
       "      <td>0.6200</td>\n",
       "      <td>0.73000</td>\n",
       "      <td>2.00000</td>\n",
       "    </tr>\n",
       "    <tr>\n",
       "      <th>Parameter 11</th>\n",
       "      <td>1359.0</td>\n",
       "      <td>10.432315</td>\n",
       "      <td>1.082065</td>\n",
       "      <td>8.40000</td>\n",
       "      <td>9.5000</td>\n",
       "      <td>10.2000</td>\n",
       "      <td>11.10000</td>\n",
       "      <td>14.90000</td>\n",
       "    </tr>\n",
       "    <tr>\n",
       "      <th>Signal_Strength</th>\n",
       "      <td>1359.0</td>\n",
       "      <td>5.623252</td>\n",
       "      <td>0.823578</td>\n",
       "      <td>3.00000</td>\n",
       "      <td>5.0000</td>\n",
       "      <td>6.0000</td>\n",
       "      <td>6.00000</td>\n",
       "      <td>8.00000</td>\n",
       "    </tr>\n",
       "  </tbody>\n",
       "</table>\n",
       "</div>\n",
       "      <button class=\"colab-df-convert\" onclick=\"convertToInteractive('df-371040a4-467d-4b4e-b5d6-7b81c5da41a7')\"\n",
       "              title=\"Convert this dataframe to an interactive table.\"\n",
       "              style=\"display:none;\">\n",
       "        \n",
       "  <svg xmlns=\"http://www.w3.org/2000/svg\" height=\"24px\"viewBox=\"0 0 24 24\"\n",
       "       width=\"24px\">\n",
       "    <path d=\"M0 0h24v24H0V0z\" fill=\"none\"/>\n",
       "    <path d=\"M18.56 5.44l.94 2.06.94-2.06 2.06-.94-2.06-.94-.94-2.06-.94 2.06-2.06.94zm-11 1L8.5 8.5l.94-2.06 2.06-.94-2.06-.94L8.5 2.5l-.94 2.06-2.06.94zm10 10l.94 2.06.94-2.06 2.06-.94-2.06-.94-.94-2.06-.94 2.06-2.06.94z\"/><path d=\"M17.41 7.96l-1.37-1.37c-.4-.4-.92-.59-1.43-.59-.52 0-1.04.2-1.43.59L10.3 9.45l-7.72 7.72c-.78.78-.78 2.05 0 2.83L4 21.41c.39.39.9.59 1.41.59.51 0 1.02-.2 1.41-.59l7.78-7.78 2.81-2.81c.8-.78.8-2.07 0-2.86zM5.41 20L4 18.59l7.72-7.72 1.47 1.35L5.41 20z\"/>\n",
       "  </svg>\n",
       "      </button>\n",
       "      \n",
       "  <style>\n",
       "    .colab-df-container {\n",
       "      display:flex;\n",
       "      flex-wrap:wrap;\n",
       "      gap: 12px;\n",
       "    }\n",
       "\n",
       "    .colab-df-convert {\n",
       "      background-color: #E8F0FE;\n",
       "      border: none;\n",
       "      border-radius: 50%;\n",
       "      cursor: pointer;\n",
       "      display: none;\n",
       "      fill: #1967D2;\n",
       "      height: 32px;\n",
       "      padding: 0 0 0 0;\n",
       "      width: 32px;\n",
       "    }\n",
       "\n",
       "    .colab-df-convert:hover {\n",
       "      background-color: #E2EBFA;\n",
       "      box-shadow: 0px 1px 2px rgba(60, 64, 67, 0.3), 0px 1px 3px 1px rgba(60, 64, 67, 0.15);\n",
       "      fill: #174EA6;\n",
       "    }\n",
       "\n",
       "    [theme=dark] .colab-df-convert {\n",
       "      background-color: #3B4455;\n",
       "      fill: #D2E3FC;\n",
       "    }\n",
       "\n",
       "    [theme=dark] .colab-df-convert:hover {\n",
       "      background-color: #434B5C;\n",
       "      box-shadow: 0px 1px 3px 1px rgba(0, 0, 0, 0.15);\n",
       "      filter: drop-shadow(0px 1px 2px rgba(0, 0, 0, 0.3));\n",
       "      fill: #FFFFFF;\n",
       "    }\n",
       "  </style>\n",
       "\n",
       "      <script>\n",
       "        const buttonEl =\n",
       "          document.querySelector('#df-371040a4-467d-4b4e-b5d6-7b81c5da41a7 button.colab-df-convert');\n",
       "        buttonEl.style.display =\n",
       "          google.colab.kernel.accessAllowed ? 'block' : 'none';\n",
       "\n",
       "        async function convertToInteractive(key) {\n",
       "          const element = document.querySelector('#df-371040a4-467d-4b4e-b5d6-7b81c5da41a7');\n",
       "          const dataTable =\n",
       "            await google.colab.kernel.invokeFunction('convertToInteractive',\n",
       "                                                     [key], {});\n",
       "          if (!dataTable) return;\n",
       "\n",
       "          const docLinkHtml = 'Like what you see? Visit the ' +\n",
       "            '<a target=\"_blank\" href=https://colab.research.google.com/notebooks/data_table.ipynb>data table notebook</a>'\n",
       "            + ' to learn more about interactive tables.';\n",
       "          element.innerHTML = '';\n",
       "          dataTable['output_type'] = 'display_data';\n",
       "          await google.colab.output.renderOutput(dataTable, element);\n",
       "          const docLink = document.createElement('div');\n",
       "          docLink.innerHTML = docLinkHtml;\n",
       "          element.appendChild(docLink);\n",
       "        }\n",
       "      </script>\n",
       "    </div>\n",
       "  </div>\n",
       "  "
      ],
      "text/plain": [
       "                  count       mean        std      min      25%      50%  \\\n",
       "Parameter 1      1359.0   8.310596   1.736990  4.60000   7.1000   7.9000   \n",
       "Parameter 2      1359.0   0.529478   0.183031  0.12000   0.3900   0.5200   \n",
       "Parameter 3      1359.0   0.272333   0.195537  0.00000   0.0900   0.2600   \n",
       "Parameter 4      1359.0   2.523400   1.352314  0.90000   1.9000   2.2000   \n",
       "Parameter 5      1359.0   0.088124   0.049377  0.01200   0.0700   0.0790   \n",
       "Parameter 6      1359.0  15.893304  10.447270  1.00000   7.0000  14.0000   \n",
       "Parameter 7      1359.0  46.825975  33.408946  6.00000  22.0000  38.0000   \n",
       "Parameter 8      1359.0   0.996709   0.001869  0.99007   0.9956   0.9967   \n",
       "Parameter 9      1359.0   3.309787   0.155036  2.74000   3.2100   3.3100   \n",
       "Parameter 10     1359.0   0.658705   0.170667  0.33000   0.5500   0.6200   \n",
       "Parameter 11     1359.0  10.432315   1.082065  8.40000   9.5000  10.2000   \n",
       "Signal_Strength  1359.0   5.623252   0.823578  3.00000   5.0000   6.0000   \n",
       "\n",
       "                      75%        max  \n",
       "Parameter 1       9.20000   15.90000  \n",
       "Parameter 2       0.64000    1.58000  \n",
       "Parameter 3       0.43000    1.00000  \n",
       "Parameter 4       2.60000   15.50000  \n",
       "Parameter 5       0.09100    0.61100  \n",
       "Parameter 6      21.00000   72.00000  \n",
       "Parameter 7      63.00000  289.00000  \n",
       "Parameter 8       0.99782    1.00369  \n",
       "Parameter 9       3.40000    4.01000  \n",
       "Parameter 10      0.73000    2.00000  \n",
       "Parameter 11     11.10000   14.90000  \n",
       "Signal_Strength   6.00000    8.00000  "
      ]
     },
     "execution_count": 9,
     "metadata": {},
     "output_type": "execute_result"
    }
   ],
   "source": [
    "df.describe().transpose()"
   ]
  },
  {
   "cell_type": "markdown",
   "metadata": {
    "id": "BzPScy5ZXguf"
   },
   "source": [
    "Visualise distribution of the target variable"
   ]
  },
  {
   "cell_type": "code",
   "execution_count": 10,
   "metadata": {
    "colab": {
     "base_uri": "https://localhost:8080/",
     "height": 299
    },
    "id": "2LyF5DUdXiGB",
    "outputId": "6a43b234-aed2-4ee8-def8-68d34c617854"
   },
   "outputs": [
    {
     "data": {
      "text/plain": [
       "<matplotlib.axes._subplots.AxesSubplot at 0x7ff1bc9dcfd0>"
      ]
     },
     "execution_count": 10,
     "metadata": {},
     "output_type": "execute_result"
    },
    {
     "data": {
      "image/png": "[encoded data removed]",
      "text/plain": [
       "<Figure size 432x288 with 1 Axes>"
      ]
     },
     "metadata": {},
     "output_type": "display_data"
    }
   ],
   "source": [
    "sns.set_style('whitegrid')\n",
    "sns.histplot(df['Signal_Strength'], kde = False, color ='red', bins = 30)"
   ]
  },
  {
   "cell_type": "markdown",
   "metadata": {
    "id": "A1sxGegTbJua"
   },
   "source": [
    "1. min value of Signal_Strength is 3 and max value of Signal_Strength is 8\n",
    "\n",
    "2. Signal_Strength with value 5 and 6 occurs most of the time.\n",
    "\n",
    "3. Standard deviation of Signal_Strength is close to 1."
   ]
  },
  {
   "cell_type": "markdown",
   "metadata": {
    "id": "8I71JY0Jibso"
   },
   "source": [
    "Split the data into X & Y"
   ]
  },
  {
   "cell_type": "code",
   "execution_count": 11,
   "metadata": {
    "id": "M0TVPGQGZaap"
   },
   "outputs": [],
   "source": [
    "X = df.drop(\"Signal_Strength\", axis=1)\n",
    "y = df['Signal_Strength']"
   ]
  },
  {
   "cell_type": "code",
   "execution_count": 12,
   "metadata": {
    "colab": {
     "base_uri": "https://localhost:8080/"
    },
    "id": "m1EJD39eivvi",
    "outputId": "2e92944c-055d-47c2-ac9a-681574b295f4"
   },
   "outputs": [
    {
     "name": "stdout",
     "output_type": "stream",
     "text": [
      "(951, 11)\n",
      "(408, 11)\n",
      "(951,)\n",
      "(408,)\n"
     ]
    }
   ],
   "source": [
    "X_train, X_test, y_train, y_test = train_test_split(X, y, test_size=0.30, random_state=10)\n",
    "\n",
    "print(X_train.shape)\n",
    "print(X_test.shape)\n",
    "print(y_train.shape)\n",
    "print(y_test.shape)"
   ]
  },
  {
   "cell_type": "markdown",
   "metadata": {
    "id": "PdqPERpllbiM"
   },
   "source": [
    "train and test data is in sync"
   ]
  },
  {
   "cell_type": "markdown",
   "metadata": {
    "id": "jzRJSoiolfgX"
   },
   "source": [
    "Normalise the train and test data"
   ]
  },
  {
   "cell_type": "code",
   "execution_count": 13,
   "metadata": {
    "id": "NcuXb9M-lU4H"
   },
   "outputs": [],
   "source": [
    "from sklearn.preprocessing import StandardScaler\n",
    "\n",
    "# Scaling training data\n",
    "X_Train_S = StandardScaler().fit_transform(X_train)   \n",
    "\n",
    "# Scaling testing data\n",
    "X_Test_S = StandardScaler().fit_transform(X_test) "
   ]
  },
  {
   "cell_type": "code",
   "execution_count": 14,
   "metadata": {
    "colab": {
     "base_uri": "https://localhost:8080/"
    },
    "id": "dheKN0bqoWQC",
    "outputId": "50aab307-fe58-4793-ca0c-3be8651df4ea"
   },
   "outputs": [
    {
     "name": "stdout",
     "output_type": "stream",
     "text": [
      "(951, 11)\n",
      "(408, 11)\n",
      "(951,)\n",
      "(408,)\n"
     ]
    }
   ],
   "source": [
    "print(X_Train_S.shape)\n",
    "print(X_Test_S.shape)\n",
    "print(y_train.shape)\n",
    "print(y_test.shape)"
   ]
  },
  {
   "cell_type": "code",
   "execution_count": 15,
   "metadata": {
    "colab": {
     "base_uri": "https://localhost:8080/"
    },
    "id": "VEL644TOd1dg",
    "outputId": "19502406-6007-436c-ffe7-1c951fbb9361"
   },
   "outputs": [
    {
     "name": "stdout",
     "output_type": "stream",
     "text": [
      "Model: \"sequential\"\n",
      "_________________________________________________________________\n",
      " Layer (type)                Output Shape              Param #   \n",
      "=================================================================\n",
      " dense (Dense)               (None, 128)               1536      \n",
      "                                                                 \n",
      " dense_1 (Dense)             (None, 64)                8256      \n",
      "                                                                 \n",
      " dense_2 (Dense)             (None, 32)                2080      \n",
      "                                                                 \n",
      " dense_3 (Dense)             (None, 32)                1056      \n",
      "                                                                 \n",
      " dense_4 (Dense)             (None, 16)                528       \n",
      "                                                                 \n",
      "=================================================================\n",
      "Total params: 13,456\n",
      "Trainable params: 13,456\n",
      "Non-trainable params: 0\n",
      "_________________________________________________________________\n"
     ]
    }
   ],
   "source": [
    "from keras.models import Sequential\n",
    "from keras.layers import Dense, Activation\n",
    "from keras import optimizers\n",
    "\n",
    "NN_model_Regressor = Sequential()\n",
    "\n",
    "# The Input Layer :\n",
    "NN_model_Regressor.add(Dense(128, kernel_initializer='normal',input_dim = X_train.shape[1], activation='relu'))\n",
    "\n",
    "# The Hidden Layers :\n",
    "NN_model_Regressor.add(Dense(64, kernel_initializer='normal',activation='relu'))\n",
    "NN_model_Regressor.add(Dense(32, kernel_initializer='normal'))\n",
    "NN_model_Regressor.add(Dense(32, kernel_initializer='normal'))\n",
    "\n",
    "# The Output Layer :\n",
    "NN_model_Regressor.add(Dense(16, kernel_initializer='normal',activation='relu'))\n",
    "\n",
    "# Compile the network :\n",
    "NN_model_Regressor.compile(loss='mean_absolute_error', optimizer='adam', metrics=['accuracy'])\n",
    "NN_model_Regressor.summary()"
   ]
  },
  {
   "cell_type": "code",
   "execution_count": 16,
   "metadata": {
    "colab": {
     "base_uri": "https://localhost:8080/"
    },
    "id": "ONWPCBhci_YZ",
    "outputId": "8413f720-08a0-494f-8a2a-c3c4e96632dc"
   },
   "outputs": [
    {
     "name": "stdout",
     "output_type": "stream",
     "text": [
      "Epoch 1/40\n",
      "8/8 [==============================] - 3s 49ms/step - loss: 5.6252 - accuracy: 0.3628 - val_loss: 5.5817 - val_accuracy: 0.4142\n",
      "Epoch 2/40\n",
      "8/8 [==============================] - 0s 6ms/step - loss: 5.5878 - accuracy: 0.4290 - val_loss: 5.5010 - val_accuracy: 0.4142\n",
      "Epoch 3/40\n",
      "8/8 [==============================] - 0s 6ms/step - loss: 5.4345 - accuracy: 0.4290 - val_loss: 5.1765 - val_accuracy: 0.4142\n",
      "Epoch 4/40\n",
      "8/8 [==============================] - 0s 6ms/step - loss: 4.8577 - accuracy: 0.4290 - val_loss: 4.0417 - val_accuracy: 0.4142\n",
      "Epoch 5/40\n",
      "8/8 [==============================] - 0s 7ms/step - loss: 3.1666 - accuracy: 0.4290 - val_loss: 2.0773 - val_accuracy: 0.4142\n",
      "Epoch 6/40\n",
      "8/8 [==============================] - 0s 6ms/step - loss: 2.1951 - accuracy: 0.4290 - val_loss: 1.8268 - val_accuracy: 0.4142\n",
      "Epoch 7/40\n",
      "8/8 [==============================] - 0s 6ms/step - loss: 1.6385 - accuracy: 0.4290 - val_loss: 1.5536 - val_accuracy: 0.4142\n",
      "Epoch 8/40\n",
      "8/8 [==============================] - 0s 6ms/step - loss: 1.4378 - accuracy: 0.4069 - val_loss: 1.3734 - val_accuracy: 0.3897\n",
      "Epoch 9/40\n",
      "8/8 [==============================] - 0s 6ms/step - loss: 1.3540 - accuracy: 0.1262 - val_loss: 1.3033 - val_accuracy: 0.0539\n",
      "Epoch 10/40\n",
      "8/8 [==============================] - 0s 6ms/step - loss: 1.2661 - accuracy: 0.0326 - val_loss: 1.2443 - val_accuracy: 0.0539\n",
      "Epoch 11/40\n",
      "8/8 [==============================] - 0s 7ms/step - loss: 1.2181 - accuracy: 0.0084 - val_loss: 1.2220 - val_accuracy: 0.0000e+00\n",
      "Epoch 12/40\n",
      "8/8 [==============================] - 0s 6ms/step - loss: 1.1770 - accuracy: 0.2545 - val_loss: 1.1893 - val_accuracy: 0.4142\n",
      "Epoch 13/40\n",
      "8/8 [==============================] - 0s 7ms/step - loss: 1.1437 - accuracy: 0.2597 - val_loss: 1.1650 - val_accuracy: 0.2819\n",
      "Epoch 14/40\n",
      "8/8 [==============================] - 0s 7ms/step - loss: 1.1111 - accuracy: 0.3649 - val_loss: 1.1242 - val_accuracy: 0.0588\n",
      "Epoch 15/40\n",
      "8/8 [==============================] - 0s 8ms/step - loss: 1.0816 - accuracy: 0.0315 - val_loss: 1.1066 - val_accuracy: 0.0539\n",
      "Epoch 16/40\n",
      "8/8 [==============================] - 0s 7ms/step - loss: 1.0499 - accuracy: 0.0084 - val_loss: 1.0887 - val_accuracy: 0.0564\n",
      "Epoch 17/40\n",
      "8/8 [==============================] - 0s 6ms/step - loss: 1.0294 - accuracy: 0.1377 - val_loss: 1.0701 - val_accuracy: 0.2574\n",
      "Epoch 18/40\n",
      "8/8 [==============================] - 0s 8ms/step - loss: 1.0030 - accuracy: 0.1598 - val_loss: 1.0430 - val_accuracy: 0.0196\n",
      "Epoch 19/40\n",
      "8/8 [==============================] - 0s 6ms/step - loss: 0.9842 - accuracy: 0.0179 - val_loss: 1.0184 - val_accuracy: 0.0049\n",
      "Epoch 20/40\n",
      "8/8 [==============================] - 0s 6ms/step - loss: 0.9641 - accuracy: 0.0032 - val_loss: 1.0032 - val_accuracy: 0.0490\n",
      "Epoch 21/40\n",
      "8/8 [==============================] - 0s 6ms/step - loss: 0.9456 - accuracy: 0.1924 - val_loss: 0.9883 - val_accuracy: 0.2819\n",
      "Epoch 22/40\n",
      "8/8 [==============================] - 0s 6ms/step - loss: 0.9306 - accuracy: 0.2029 - val_loss: 0.9898 - val_accuracy: 0.0000e+00\n",
      "Epoch 23/40\n",
      "8/8 [==============================] - 0s 7ms/step - loss: 0.9310 - accuracy: 0.0011 - val_loss: 0.9635 - val_accuracy: 0.0000e+00\n",
      "Epoch 24/40\n",
      "8/8 [==============================] - 0s 8ms/step - loss: 0.9125 - accuracy: 0.0673 - val_loss: 0.9602 - val_accuracy: 0.2402\n",
      "Epoch 25/40\n",
      "8/8 [==============================] - 0s 6ms/step - loss: 0.8983 - accuracy: 0.1325 - val_loss: 0.9397 - val_accuracy: 0.0196\n",
      "Epoch 26/40\n",
      "8/8 [==============================] - 0s 6ms/step - loss: 0.8884 - accuracy: 0.0095 - val_loss: 0.9318 - val_accuracy: 0.0000e+00\n",
      "Epoch 27/40\n",
      "8/8 [==============================] - 0s 7ms/step - loss: 0.8762 - accuracy: 0.0074 - val_loss: 0.9174 - val_accuracy: 0.0025\n",
      "Epoch 28/40\n",
      "8/8 [==============================] - 0s 6ms/step - loss: 0.8725 - accuracy: 0.0789 - val_loss: 0.9113 - val_accuracy: 0.0882\n",
      "Epoch 29/40\n",
      "8/8 [==============================] - 0s 6ms/step - loss: 0.8643 - accuracy: 0.0105 - val_loss: 0.9098 - val_accuracy: 0.0000e+00\n",
      "Epoch 30/40\n",
      "8/8 [==============================] - 0s 8ms/step - loss: 0.8596 - accuracy: 0.0063 - val_loss: 0.8988 - val_accuracy: 0.1495\n",
      "Epoch 31/40\n",
      "8/8 [==============================] - 0s 6ms/step - loss: 0.8517 - accuracy: 0.0568 - val_loss: 0.8970 - val_accuracy: 0.0000e+00\n",
      "Epoch 32/40\n",
      "8/8 [==============================] - 0s 7ms/step - loss: 0.8454 - accuracy: 0.0011 - val_loss: 0.8889 - val_accuracy: 0.0245\n",
      "Epoch 33/40\n",
      "8/8 [==============================] - 0s 8ms/step - loss: 0.8437 - accuracy: 0.0389 - val_loss: 0.8911 - val_accuracy: 0.0025\n",
      "Epoch 34/40\n",
      "8/8 [==============================] - 0s 6ms/step - loss: 0.8376 - accuracy: 0.0021 - val_loss: 0.8783 - val_accuracy: 0.0025\n",
      "Epoch 35/40\n",
      "8/8 [==============================] - 0s 6ms/step - loss: 0.8324 - accuracy: 0.0852 - val_loss: 0.8799 - val_accuracy: 0.0270\n",
      "Epoch 36/40\n",
      "8/8 [==============================] - 0s 7ms/step - loss: 0.8280 - accuracy: 0.0358 - val_loss: 0.8711 - val_accuracy: 0.0343\n",
      "Epoch 37/40\n",
      "8/8 [==============================] - 0s 8ms/step - loss: 0.8210 - accuracy: 0.0147 - val_loss: 0.8693 - val_accuracy: 0.0196\n",
      "Epoch 38/40\n",
      "8/8 [==============================] - 0s 6ms/step - loss: 0.8173 - accuracy: 0.0042 - val_loss: 0.8666 - val_accuracy: 0.0637\n",
      "Epoch 39/40\n",
      "8/8 [==============================] - 0s 6ms/step - loss: 0.8161 - accuracy: 0.0957 - val_loss: 0.8653 - val_accuracy: 0.0000e+00\n",
      "Epoch 40/40\n",
      "8/8 [==============================] - 0s 8ms/step - loss: 0.8228 - accuracy: 0.0095 - val_loss: 0.8593 - val_accuracy: 0.0025\n"
     ]
    }
   ],
   "source": [
    "EPOCH=40\n",
    "history = NN_model_Regressor.fit(X_Train_S, y_train, validation_data=(X_Test_S,y_test), epochs=EPOCH, batch_size=128)"
   ]
  },
  {
   "cell_type": "code",
   "execution_count": 17,
   "metadata": {
    "colab": {
     "base_uri": "https://localhost:8080/",
     "height": 295
    },
    "id": "o2VSi1abjtNB",
    "outputId": "570c3d01-65c6-4f2b-a326-832144d92147"
   },
   "outputs": [
    {
     "data": {
      "image/png": "[encoded data removed]",
      "text/plain": [
       "<Figure size 432x288 with 1 Axes>"
      ]
     },
     "metadata": {},
     "output_type": "display_data"
    }
   ],
   "source": [
    "loss_train = history.history['loss']\n",
    "loss_val = history.history['val_loss']\n",
    "epochs = range(1,EPOCH+1)\n",
    "plt.plot(epochs, loss_train, 'g', label='Training loss')\n",
    "plt.plot(epochs, loss_val, 'b', label='validation loss')\n",
    "plt.title('Training and Validation loss')\n",
    "plt.xlabel('Epochs')\n",
    "plt.ylabel('Loss')\n",
    "plt.legend()\n",
    "plt.show()"
   ]
  },
  {
   "cell_type": "code",
   "execution_count": 18,
   "metadata": {
    "colab": {
     "base_uri": "https://localhost:8080/",
     "height": 295
    },
    "id": "jpjTsdA7j6gG",
    "outputId": "045eb321-38b9-4978-b881-bcce4a43b3de"
   },
   "outputs": [
    {
     "data": {
      "image/png": "[encoded data removed]",
      "text/plain": [
       "<Figure size 432x288 with 1 Axes>"
      ]
     },
     "metadata": {},
     "output_type": "display_data"
    }
   ],
   "source": [
    "acc_train = history.history['accuracy']\n",
    "acc_val = history.history['val_accuracy']\n",
    "epochs = range(1,EPOCH+1)\n",
    "plt.plot(epochs, acc_train, 'g', label='Training accuracy')\n",
    "plt.plot(epochs, acc_val, 'b', label='validation accuracy')\n",
    "plt.title('Training and Validation accuracy')\n",
    "plt.xlabel('Epochs')\n",
    "plt.ylabel('accuracy')\n",
    "plt.legend()\n",
    "plt.show()"
   ]
  },
  {
   "cell_type": "code",
   "execution_count": 19,
   "metadata": {
    "id": "KoUhAOk0HAsK"
   },
   "outputs": [],
   "source": [
    "# Converting y data into categorical (one-hot encoding)\n",
    "from keras.utils.np_utils import to_categorical\n",
    "Y_Train = to_categorical(y_train)\n",
    "Y_Test = to_categorical(y_test)"
   ]
  },
  {
   "cell_type": "code",
   "execution_count": 20,
   "metadata": {
    "colab": {
     "base_uri": "https://localhost:8080/"
    },
    "id": "osbckSiSj_5m",
    "outputId": "fd4b18cd-cc01-4095-d6fa-c54a6430224b"
   },
   "outputs": [
    {
     "name": "stdout",
     "output_type": "stream",
     "text": [
      "Model: \"sequential_1\"\n",
      "_________________________________________________________________\n",
      " Layer (type)                Output Shape              Param #   \n",
      "=================================================================\n",
      " dense_5 (Dense)             (None, 128)               1536      \n",
      "                                                                 \n",
      " dense_6 (Dense)             (None, 64)                8256      \n",
      "                                                                 \n",
      " dense_7 (Dense)             (None, 32)                2080      \n",
      "                                                                 \n",
      " leaky_re_lu (LeakyReLU)     (None, 32)                0         \n",
      "                                                                 \n",
      " dense_8 (Dense)             (None, 16)                528       \n",
      "                                                                 \n",
      " leaky_re_lu_1 (LeakyReLU)   (None, 16)                0         \n",
      "                                                                 \n",
      " dense_9 (Dense)             (None, 9)                 153       \n",
      "                                                                 \n",
      "=================================================================\n",
      "Total params: 12,553\n",
      "Trainable params: 12,553\n",
      "Non-trainable params: 0\n",
      "_________________________________________________________________\n"
     ]
    }
   ],
   "source": [
    "from keras.layers import LeakyReLU\n",
    "from keras import optimizers\n",
    "\n",
    "NN_model = Sequential()\n",
    "\n",
    "# The Input Layer :\n",
    "NN_model.add(Dense(128, kernel_initializer='normal',input_dim = X_Train_S.shape[1], activation='relu'))\n",
    "\n",
    "# The Hidden Layers :\n",
    "NN_model.add(Dense(64, kernel_initializer='normal',activation='relu'))  # sigmoid, tanh\n",
    "\n",
    "NN_model.add(Dense(32, kernel_initializer='normal'))\n",
    "NN_model.add(LeakyReLU(alpha=0.1))\n",
    "\n",
    "NN_model.add(Dense(16, kernel_initializer='normal'))\n",
    "NN_model.add(LeakyReLU(alpha=0.1))\n",
    "\n",
    "\n",
    "# The Output Layer :\n",
    "NN_model.add(Dense(9, kernel_initializer='normal',activation='softmax'))  # except softmax\n",
    "\n",
    "# Compile the network :\n",
    "NN_model.compile(loss='mean_absolute_error', optimizer='adam', metrics=['accuracy'])\n",
    "NN_model.summary()"
   ]
  },
  {
   "cell_type": "code",
   "execution_count": 21,
   "metadata": {
    "colab": {
     "base_uri": "https://localhost:8080/"
    },
    "id": "dQN28loS6h1P",
    "outputId": "f839568f-8243-4da4-bb93-7ef767f95b0a"
   },
   "outputs": [
    {
     "name": "stdout",
     "output_type": "stream",
     "text": [
      "Epoch 1/40\n",
      "5/5 [==============================] - 1s 40ms/step - loss: 0.1975 - accuracy: 0.3249 - val_loss: 0.1973 - val_accuracy: 0.3897\n",
      "Epoch 2/40\n",
      "5/5 [==============================] - 0s 8ms/step - loss: 0.1972 - accuracy: 0.3954 - val_loss: 0.1971 - val_accuracy: 0.3897\n",
      "Epoch 3/40\n",
      "5/5 [==============================] - 0s 8ms/step - loss: 0.1970 - accuracy: 0.3954 - val_loss: 0.1968 - val_accuracy: 0.3897\n",
      "Epoch 4/40\n",
      "5/5 [==============================] - 0s 8ms/step - loss: 0.1965 - accuracy: 0.3954 - val_loss: 0.1962 - val_accuracy: 0.3897\n",
      "Epoch 5/40\n",
      "5/5 [==============================] - 0s 9ms/step - loss: 0.1958 - accuracy: 0.3954 - val_loss: 0.1951 - val_accuracy: 0.3897\n",
      "Epoch 6/40\n",
      "5/5 [==============================] - 0s 9ms/step - loss: 0.1942 - accuracy: 0.3954 - val_loss: 0.1927 - val_accuracy: 0.3897\n",
      "Epoch 7/40\n",
      "5/5 [==============================] - 0s 9ms/step - loss: 0.1909 - accuracy: 0.3954 - val_loss: 0.1876 - val_accuracy: 0.3897\n",
      "Epoch 8/40\n",
      "5/5 [==============================] - 0s 8ms/step - loss: 0.1837 - accuracy: 0.3954 - val_loss: 0.1769 - val_accuracy: 0.3897\n",
      "Epoch 9/40\n",
      "5/5 [==============================] - 0s 8ms/step - loss: 0.1696 - accuracy: 0.3954 - val_loss: 0.1590 - val_accuracy: 0.3897\n",
      "Epoch 10/40\n",
      "5/5 [==============================] - 0s 8ms/step - loss: 0.1501 - accuracy: 0.3954 - val_loss: 0.1416 - val_accuracy: 0.3897\n",
      "Epoch 11/40\n",
      "5/5 [==============================] - 0s 8ms/step - loss: 0.1365 - accuracy: 0.3954 - val_loss: 0.1346 - val_accuracy: 0.3897\n",
      "Epoch 12/40\n",
      "5/5 [==============================] - 0s 9ms/step - loss: 0.1325 - accuracy: 0.3954 - val_loss: 0.1331 - val_accuracy: 0.3897\n",
      "Epoch 13/40\n",
      "5/5 [==============================] - 0s 11ms/step - loss: 0.1307 - accuracy: 0.3954 - val_loss: 0.1328 - val_accuracy: 0.4142\n",
      "Epoch 14/40\n",
      "5/5 [==============================] - 0s 8ms/step - loss: 0.1301 - accuracy: 0.4290 - val_loss: 0.1331 - val_accuracy: 0.4142\n",
      "Epoch 15/40\n",
      "5/5 [==============================] - 0s 12ms/step - loss: 0.1293 - accuracy: 0.4290 - val_loss: 0.1326 - val_accuracy: 0.4142\n",
      "Epoch 16/40\n",
      "5/5 [==============================] - 0s 10ms/step - loss: 0.1281 - accuracy: 0.4290 - val_loss: 0.1312 - val_accuracy: 0.4142\n",
      "Epoch 17/40\n",
      "5/5 [==============================] - 0s 8ms/step - loss: 0.1266 - accuracy: 0.4290 - val_loss: 0.1301 - val_accuracy: 0.4142\n",
      "Epoch 18/40\n",
      "5/5 [==============================] - 0s 8ms/step - loss: 0.1256 - accuracy: 0.4290 - val_loss: 0.1294 - val_accuracy: 0.4142\n",
      "Epoch 19/40\n",
      "5/5 [==============================] - 0s 8ms/step - loss: 0.1249 - accuracy: 0.4290 - val_loss: 0.1287 - val_accuracy: 0.4142\n",
      "Epoch 20/40\n",
      "5/5 [==============================] - 0s 9ms/step - loss: 0.1238 - accuracy: 0.4290 - val_loss: 0.1277 - val_accuracy: 0.4142\n",
      "Epoch 21/40\n",
      "5/5 [==============================] - 0s 12ms/step - loss: 0.1223 - accuracy: 0.4290 - val_loss: 0.1265 - val_accuracy: 0.4142\n",
      "Epoch 22/40\n",
      "5/5 [==============================] - 0s 12ms/step - loss: 0.1209 - accuracy: 0.4290 - val_loss: 0.1257 - val_accuracy: 0.4142\n",
      "Epoch 23/40\n",
      "5/5 [==============================] - 0s 9ms/step - loss: 0.1199 - accuracy: 0.4290 - val_loss: 0.1246 - val_accuracy: 0.4142\n",
      "Epoch 24/40\n",
      "5/5 [==============================] - 0s 9ms/step - loss: 0.1186 - accuracy: 0.4290 - val_loss: 0.1236 - val_accuracy: 0.4142\n",
      "Epoch 25/40\n",
      "5/5 [==============================] - 0s 13ms/step - loss: 0.1177 - accuracy: 0.4290 - val_loss: 0.1227 - val_accuracy: 0.4142\n",
      "Epoch 26/40\n",
      "5/5 [==============================] - 0s 9ms/step - loss: 0.1168 - accuracy: 0.4290 - val_loss: 0.1220 - val_accuracy: 0.4142\n",
      "Epoch 27/40\n",
      "5/5 [==============================] - 0s 14ms/step - loss: 0.1160 - accuracy: 0.4290 - val_loss: 0.1214 - val_accuracy: 0.4142\n",
      "Epoch 28/40\n",
      "5/5 [==============================] - 0s 12ms/step - loss: 0.1154 - accuracy: 0.4290 - val_loss: 0.1207 - val_accuracy: 0.4142\n",
      "Epoch 29/40\n",
      "5/5 [==============================] - 0s 9ms/step - loss: 0.1146 - accuracy: 0.4290 - val_loss: 0.1201 - val_accuracy: 0.4167\n",
      "Epoch 30/40\n",
      "5/5 [==============================] - 0s 9ms/step - loss: 0.1139 - accuracy: 0.4479 - val_loss: 0.1193 - val_accuracy: 0.4608\n",
      "Epoch 31/40\n",
      "5/5 [==============================] - 0s 9ms/step - loss: 0.1129 - accuracy: 0.4974 - val_loss: 0.1184 - val_accuracy: 0.4804\n",
      "Epoch 32/40\n",
      "5/5 [==============================] - 0s 8ms/step - loss: 0.1117 - accuracy: 0.5174 - val_loss: 0.1173 - val_accuracy: 0.5000\n",
      "Epoch 33/40\n",
      "5/5 [==============================] - 0s 10ms/step - loss: 0.1103 - accuracy: 0.5342 - val_loss: 0.1160 - val_accuracy: 0.5368\n",
      "Epoch 34/40\n",
      "5/5 [==============================] - 0s 8ms/step - loss: 0.1087 - accuracy: 0.5615 - val_loss: 0.1143 - val_accuracy: 0.5417\n",
      "Epoch 35/40\n",
      "5/5 [==============================] - 0s 9ms/step - loss: 0.1061 - accuracy: 0.5731 - val_loss: 0.1116 - val_accuracy: 0.5466\n",
      "Epoch 36/40\n",
      "5/5 [==============================] - 0s 9ms/step - loss: 0.1029 - accuracy: 0.5741 - val_loss: 0.1084 - val_accuracy: 0.5515\n",
      "Epoch 37/40\n",
      "5/5 [==============================] - 0s 13ms/step - loss: 0.0992 - accuracy: 0.5836 - val_loss: 0.1057 - val_accuracy: 0.5392\n",
      "Epoch 38/40\n",
      "5/5 [==============================] - 0s 12ms/step - loss: 0.0961 - accuracy: 0.5941 - val_loss: 0.1035 - val_accuracy: 0.5368\n",
      "Epoch 39/40\n",
      "5/5 [==============================] - 0s 9ms/step - loss: 0.0935 - accuracy: 0.5983 - val_loss: 0.1025 - val_accuracy: 0.5392\n",
      "Epoch 40/40\n",
      "5/5 [==============================] - 0s 9ms/step - loss: 0.0918 - accuracy: 0.6015 - val_loss: 0.1023 - val_accuracy: 0.5343\n"
     ]
    }
   ],
   "source": [
    "EPOCH=40\n",
    "model1=NN_model.fit(X_Train_S, Y_Train, validation_data=(X_Test_S,Y_Test), epochs=EPOCH, batch_size=200)"
   ]
  },
  {
   "cell_type": "code",
   "execution_count": 22,
   "metadata": {
    "colab": {
     "base_uri": "https://localhost:8080/",
     "height": 295
    },
    "id": "qATnhvVW7DfM",
    "outputId": "2f04e32f-5f56-4116-f769-734a03675490"
   },
   "outputs": [
    {
     "data": {
      "image/png": "[encoded data removed]",
      "text/plain": [
       "<Figure size 432x288 with 1 Axes>"
      ]
     },
     "metadata": {},
     "output_type": "display_data"
    }
   ],
   "source": [
    "loss_train = model1.history['loss']\n",
    "loss_val = model1.history['val_loss']\n",
    "epochs = range(1,EPOCH+1)\n",
    "plt.plot(epochs, loss_train, 'g', label='Training loss')\n",
    "plt.plot(epochs, loss_val, 'b', label='validation loss')\n",
    "plt.title('Training and Validation loss')\n",
    "plt.xlabel('Epochs')\n",
    "plt.ylabel('Loss')\n",
    "plt.legend()\n",
    "plt.show()"
   ]
  },
  {
   "cell_type": "code",
   "execution_count": 23,
   "metadata": {
    "colab": {
     "base_uri": "https://localhost:8080/",
     "height": 295
    },
    "id": "ZDH3oJMTH4sd",
    "outputId": "9c389d97-3875-49ac-e19f-0ebda1b74b1c"
   },
   "outputs": [
    {
     "data": {
      "image/png": "[encoded data removed]",
      "text/plain": [
       "<Figure size 432x288 with 1 Axes>"
      ]
     },
     "metadata": {},
     "output_type": "display_data"
    }
   ],
   "source": [
    "Acc_train = model1.history['accuracy']\n",
    "Acc_val = model1.history['val_accuracy']\n",
    "epochs = range(1,EPOCH+1)\n",
    "plt.plot(epochs, Acc_train, 'g', label='Training accuracy')\n",
    "plt.plot(epochs, Acc_val, 'b', label='validation accuracy')\n",
    "plt.title('Training and Validation accuracy')\n",
    "plt.xlabel('Epochs')\n",
    "plt.ylabel('accuracy')\n",
    "plt.legend()\n",
    "plt.show()"
   ]
  },
  {
   "cell_type": "markdown",
   "metadata": {
    "id": "8X6p5OfJABI3"
   },
   "source": [
    "1. accuracy increased.\n",
    "2. from epochs 3 to 28 accuracy is almost same.\n",
    "3. after epochs 28 accuracy is increased."
   ]
  },
  {
   "cell_type": "markdown",
   "metadata": {
    "id": "6JXVt1W4KEgN"
   },
   "source": [
    "#Part B"
   ]
  },
  {
   "cell_type": "code",
   "execution_count": 45,
   "metadata": {
    "colab": {
     "base_uri": "https://localhost:8080/"
    },
    "id": "6wySZZEnIvE4",
    "outputId": "f732fe98-b890-4dd8-e32c-9122e6a24da8"
   },
   "outputs": [
    {
     "data": {
      "text/plain": [
       "<KeysViewHDF5 ['X_test', 'X_train', 'X_val', 'y_test', 'y_train', 'y_val']>"
      ]
     },
     "execution_count": 45,
     "metadata": {},
     "output_type": "execute_result"
    }
   ],
   "source": [
    "import h5py\n",
    "\n",
    "# Open the file as readonly\n",
    "df2 = h5py.File('/content/drive/MyDrive/Autonomous_Vehicles_SVHN_single_grey1.h5','r')\n",
    "\n",
    "df2.keys()"
   ]
  },
  {
   "cell_type": "code",
   "execution_count": 46,
   "metadata": {
    "id": "JdgAFI3qKkuY"
   },
   "outputs": [],
   "source": [
    "X_trainn = df2['X_train'][:]\n",
    "y_trainn = df2['y_train'][:]\n",
    "X_testt = df2['X_test'][:]\n",
    "y_testt = df2['y_test'][:]"
   ]
  },
  {
   "cell_type": "code",
   "execution_count": 47,
   "metadata": {
    "colab": {
     "base_uri": "https://localhost:8080/"
    },
    "id": "Vm9rjCMUMiZN",
    "outputId": "b4ba7d86-426c-49bd-8ae2-e55dd76572f4"
   },
   "outputs": [
    {
     "name": "stdout",
     "output_type": "stream",
     "text": [
      "(42000, 32, 32)\n",
      "(18000, 32, 32)\n",
      "(42000,)\n",
      "(18000,)\n"
     ]
    }
   ],
   "source": [
    "print(X_trainn.shape)\n",
    "print(X_testt.shape)\n",
    "print(y_trainn.shape)\n",
    "print(y_testt.shape)"
   ]
  },
  {
   "cell_type": "markdown",
   "metadata": {
    "id": "WTno1RrcM76G"
   },
   "source": [
    "x & y is in sync"
   ]
  },
  {
   "cell_type": "code",
   "execution_count": 48,
   "metadata": {
    "colab": {
     "base_uri": "https://localhost:8080/",
     "height": 95
    },
    "id": "OnMAa2QlMPzS",
    "outputId": "cb1d851c-c46e-49b4-f73e-5410d952ed44"
   },
   "outputs": [
    {
     "data": {
      "image/png": "[encoded data removed]",
      "text/plain": [
       "<Figure size 720x72 with 10 Axes>"
      ]
     },
     "metadata": {},
     "output_type": "display_data"
    },
    {
     "name": "stdout",
     "output_type": "stream",
     "text": [
      "label for each of the above image: [2 6 7 4 4 0 3 0 7 3]\n"
     ]
    }
   ],
   "source": [
    "# visualizing the first 10 images\n",
    "plt.figure(figsize=(10, 1))\n",
    "for i in range(10):\n",
    "    plt.subplot(1, 10, i+1)\n",
    "    plt.imshow(X_trainn[i], cmap=\"gray\")\n",
    "    plt.axis('off')\n",
    "plt.show()\n",
    "print('label for each of the above image: %s' % (y_trainn[0:10]))"
   ]
  },
  {
   "cell_type": "code",
   "execution_count": 49,
   "metadata": {
    "id": "6d9IB0UdMqYR"
   },
   "outputs": [],
   "source": [
    "#Reshape data from 2D to 1D -> 32X32 to 1024\n",
    "X_trainn = np.asarray(X_trainn).reshape(42000, 1024)\n",
    "X_testt = np.asarray(X_testt).reshape(18000, 1024)\n",
    "\n",
    "X_trainn = X_trainn.astype('float32') / 255\n",
    "X_testt = X_testt.astype('float32') / 255"
   ]
  },
  {
   "cell_type": "code",
   "execution_count": 50,
   "metadata": {
    "colab": {
     "base_uri": "https://localhost:8080/"
    },
    "id": "Nm6LdyHBNaPW",
    "outputId": "53d714c5-3154-4fea-ff9d-413b337c7624"
   },
   "outputs": [
    {
     "name": "stdout",
     "output_type": "stream",
     "text": [
      "The number of classes in this dataset are: 10\n"
     ]
    }
   ],
   "source": [
    "# one hot encode outputs\n",
    "y_trainn = tf.keras.utils.to_categorical(y_trainn, num_classes = 10)\n",
    "y_testt = tf.keras.utils.to_categorical(y_testt, num_classes = 10)\n",
    "\n",
    "# no.of classes\n",
    "num_classes = y_testt.shape[1] \n",
    "print(\"The number of classes in this dataset are:\",num_classes)"
   ]
  },
  {
   "cell_type": "code",
   "execution_count": 51,
   "metadata": {
    "colab": {
     "base_uri": "https://localhost:8080/"
    },
    "id": "qhSMnY_sTjQD",
    "outputId": "e05d396b-7004-40e6-8d4f-6f1d88946bbf"
   },
   "outputs": [
    {
     "name": "stdout",
     "output_type": "stream",
     "text": [
      "The shape of the training dataset: (42000, 1024)\n",
      "The shape of the training (y) dataset: (42000, 10)\n",
      "The shape of the test dataset: (18000, 1024)\n",
      "The shape of the test (y) dataset: (18000, 10)\n"
     ]
    }
   ],
   "source": [
    "print('The shape of the training dataset:', X_trainn.shape)\n",
    "print('The shape of the training (y) dataset:', y_trainn.shape)\n",
    "print('The shape of the test dataset:', X_testt.shape)\n",
    "print('The shape of the test (y) dataset:', y_testt.shape)"
   ]
  },
  {
   "cell_type": "code",
   "execution_count": 52,
   "metadata": {
    "id": "nbPOTjovNr8S"
   },
   "outputs": [],
   "source": [
    "# create model\n",
    "keras_model = Sequential()"
   ]
  },
  {
   "cell_type": "code",
   "execution_count": 53,
   "metadata": {
    "id": "nemg5DEWOhEC"
   },
   "outputs": [],
   "source": [
    "# Input Layer\n",
    "keras_model.add(Dense(512, kernel_initializer = 'he_normal', input_shape = (1024, )))\n",
    "keras_model.add(Activation('relu'))\n",
    "\n",
    "#Hidden Layer\n",
    "keras_model.add(Dense(256, kernel_initializer = 'he_normal'))\n",
    "keras_model.add(Activation('relu'))\n",
    "\n",
    "keras_model.add(Dense(128, kernel_initializer = 'he_normal'))\n",
    "keras_model.add(Activation('relu'))\n",
    "\n",
    "keras_model.add(Dense(64, kernel_initializer = 'he_normal'))\n",
    "keras_model.add(Activation('relu'))\n",
    "\n",
    "keras_model.add(Dense(32, kernel_initializer = 'he_normal'))\n",
    "keras_model.add(Activation('relu'))\n",
    "\n",
    "# Output Layer\n",
    "keras_model.add(Dense(10))\n",
    "keras_model.add(Activation('softmax'))"
   ]
  },
  {
   "cell_type": "code",
   "execution_count": 54,
   "metadata": {
    "colab": {
     "base_uri": "https://localhost:8080/"
    },
    "id": "ITx0xPzdOxYb",
    "outputId": "75fedad8-27f8-4f93-a523-475040b46700"
   },
   "outputs": [
    {
     "name": "stdout",
     "output_type": "stream",
     "text": [
      "Model: \"sequential_3\"\n",
      "_________________________________________________________________\n",
      " Layer (type)                Output Shape              Param #   \n",
      "=================================================================\n",
      " dense_15 (Dense)            (None, 512)               524800    \n",
      "                                                                 \n",
      " activation (Activation)     (None, 512)               0         \n",
      "                                                                 \n",
      " dense_16 (Dense)            (None, 256)               131328    \n",
      "                                                                 \n",
      " activation_1 (Activation)   (None, 256)               0         \n",
      "                                                                 \n",
      " dense_17 (Dense)            (None, 128)               32896     \n",
      "                                                                 \n",
      " activation_2 (Activation)   (None, 128)               0         \n",
      "                                                                 \n",
      " dense_18 (Dense)            (None, 64)                8256      \n",
      "                                                                 \n",
      " activation_3 (Activation)   (None, 64)                0         \n",
      "                                                                 \n",
      " dense_19 (Dense)            (None, 32)                2080      \n",
      "                                                                 \n",
      " activation_4 (Activation)   (None, 32)                0         \n",
      "                                                                 \n",
      " dense_20 (Dense)            (None, 10)                330       \n",
      "                                                                 \n",
      " activation_5 (Activation)   (None, 10)                0         \n",
      "                                                                 \n",
      "=================================================================\n",
      "Total params: 699,690\n",
      "Trainable params: 699,690\n",
      "Non-trainable params: 0\n",
      "_________________________________________________________________\n"
     ]
    }
   ],
   "source": [
    "keras_model.summary()"
   ]
  },
  {
   "cell_type": "code",
   "execution_count": 60,
   "metadata": {
    "id": "kU89KKVeQzZp"
   },
   "outputs": [],
   "source": [
    "keras_model.compile(optimizer = 'adam', loss = 'categorical_crossentropy', metrics = ['accuracy'])"
   ]
  },
  {
   "cell_type": "code",
   "execution_count": 61,
   "metadata": {
    "colab": {
     "base_uri": "https://localhost:8080/"
    },
    "id": "DWLPVdZIRClV",
    "outputId": "a01cab91-9867-4086-c4c4-060c1d6109ef"
   },
   "outputs": [
    {
     "name": "stdout",
     "output_type": "stream",
     "text": [
      "Epoch 1/20\n",
      "210/210 [==============================] - 2s 5ms/step - loss: 1.5412 - accuracy: 0.5129 - val_loss: 1.1901 - val_accuracy: 0.6202\n",
      "Epoch 2/20\n",
      "210/210 [==============================] - 1s 5ms/step - loss: 1.1179 - accuracy: 0.6489 - val_loss: 1.0880 - val_accuracy: 0.6563\n",
      "Epoch 3/20\n",
      "210/210 [==============================] - 1s 4ms/step - loss: 1.0021 - accuracy: 0.6877 - val_loss: 0.9528 - val_accuracy: 0.7016\n",
      "Epoch 4/20\n",
      "210/210 [==============================] - 1s 4ms/step - loss: 0.9472 - accuracy: 0.7032 - val_loss: 0.8957 - val_accuracy: 0.7269\n",
      "Epoch 5/20\n",
      "210/210 [==============================] - 1s 4ms/step - loss: 0.8941 - accuracy: 0.7215 - val_loss: 0.8883 - val_accuracy: 0.7286\n",
      "Epoch 6/20\n",
      "210/210 [==============================] - 1s 4ms/step - loss: 0.8554 - accuracy: 0.7334 - val_loss: 0.9109 - val_accuracy: 0.7243\n",
      "Epoch 7/20\n",
      "210/210 [==============================] - 1s 5ms/step - loss: 0.8158 - accuracy: 0.7451 - val_loss: 0.8910 - val_accuracy: 0.7240\n",
      "Epoch 8/20\n",
      "210/210 [==============================] - 1s 5ms/step - loss: 0.7720 - accuracy: 0.7594 - val_loss: 0.7891 - val_accuracy: 0.7629\n",
      "Epoch 9/20\n",
      "210/210 [==============================] - 1s 4ms/step - loss: 0.7613 - accuracy: 0.7636 - val_loss: 0.7683 - val_accuracy: 0.7681\n",
      "Epoch 10/20\n",
      "210/210 [==============================] - 1s 4ms/step - loss: 0.7232 - accuracy: 0.7750 - val_loss: 0.8109 - val_accuracy: 0.7502\n",
      "Epoch 11/20\n",
      "210/210 [==============================] - 1s 5ms/step - loss: 0.7114 - accuracy: 0.7762 - val_loss: 0.7939 - val_accuracy: 0.7609\n",
      "Epoch 12/20\n",
      "210/210 [==============================] - 1s 4ms/step - loss: 0.6822 - accuracy: 0.7848 - val_loss: 0.7517 - val_accuracy: 0.7722\n",
      "Epoch 13/20\n",
      "210/210 [==============================] - 1s 5ms/step - loss: 0.6744 - accuracy: 0.7891 - val_loss: 0.7453 - val_accuracy: 0.7745\n",
      "Epoch 14/20\n",
      "210/210 [==============================] - 1s 5ms/step - loss: 0.6335 - accuracy: 0.7993 - val_loss: 0.8188 - val_accuracy: 0.7547\n",
      "Epoch 15/20\n",
      "210/210 [==============================] - 1s 5ms/step - loss: 0.6219 - accuracy: 0.8020 - val_loss: 0.7058 - val_accuracy: 0.7890\n",
      "Epoch 16/20\n",
      "210/210 [==============================] - 1s 4ms/step - loss: 0.6136 - accuracy: 0.8060 - val_loss: 0.7384 - val_accuracy: 0.7778\n",
      "Epoch 17/20\n",
      "210/210 [==============================] - 1s 4ms/step - loss: 0.5823 - accuracy: 0.8153 - val_loss: 0.7274 - val_accuracy: 0.7789\n",
      "Epoch 18/20\n",
      "210/210 [==============================] - 1s 5ms/step - loss: 0.5696 - accuracy: 0.8194 - val_loss: 0.6972 - val_accuracy: 0.7957\n",
      "Epoch 19/20\n",
      "210/210 [==============================] - 1s 5ms/step - loss: 0.5523 - accuracy: 0.8244 - val_loss: 0.6665 - val_accuracy: 0.8033\n",
      "Epoch 20/20\n",
      "210/210 [==============================] - 1s 5ms/step - loss: 0.5368 - accuracy: 0.8306 - val_loss: 0.7214 - val_accuracy: 0.7831\n"
     ]
    }
   ],
   "source": [
    "history = keras_model.fit(X_trainn, y_trainn, validation_data = (X_testt, y_testt), batch_size = 200, epochs = 20, verbose = 1)"
   ]
  },
  {
   "cell_type": "code",
   "execution_count": 63,
   "metadata": {
    "colab": {
     "base_uri": "https://localhost:8080/"
    },
    "id": "fevLpDVJV3zQ",
    "outputId": "fda98ecf-9e78-4b44-b3dc-88a83354cd96"
   },
   "outputs": [
    {
     "name": "stdout",
     "output_type": "stream",
     "text": [
      "563/563 [==============================] - 2s 3ms/step - loss: 0.7214 - accuracy: 0.7831\n",
      "Validation accuracy using basic Neural Network (adam) :  0.7830555438995361\n"
     ]
    }
   ],
   "source": [
    "results = keras_model.evaluate(X_testt, y_testt)\n",
    "print('Validation accuracy using basic Neural Network (adam) : ', results[1])"
   ]
  },
  {
   "cell_type": "code",
   "execution_count": 64,
   "metadata": {
    "colab": {
     "base_uri": "https://localhost:8080/",
     "height": 295
    },
    "id": "aiXpLmrMWRJR",
    "outputId": "60ede153-b0da-4046-8835-74590095a4d0"
   },
   "outputs": [
    {
     "data": {
      "image/png": "[encoded data removed]",
      "text/plain": [
       "<Figure size 432x288 with 1 Axes>"
      ]
     },
     "metadata": {},
     "output_type": "display_data"
    }
   ],
   "source": [
    "# summarize history for loss\n",
    "plt.plot(history.history['loss'])\n",
    "plt.plot(history.history['val_loss'])\n",
    "plt.title('model loss')\n",
    "plt.ylabel('loss')\n",
    "plt.xlabel('epoch')\n",
    "plt.legend(['train', 'test'], loc='upper left')\n",
    "plt.show()"
   ]
  },
  {
   "cell_type": "code",
   "execution_count": 65,
   "metadata": {
    "colab": {
     "base_uri": "https://localhost:8080/",
     "height": 295
    },
    "id": "Hnpt4LtMXGMn",
    "outputId": "abaca6cc-56c6-433e-c512-0a1b8541e83c"
   },
   "outputs": [
    {
     "data": {
      "image/png": "[encoded data removed]",
      "text/plain": [
       "<Figure size 432x288 with 1 Axes>"
      ]
     },
     "metadata": {},
     "output_type": "display_data"
    }
   ],
   "source": [
    "# summarize history for accuracy\n",
    "plt.plot(history.history['accuracy'])\n",
    "plt.plot(history.history['val_accuracy'])\n",
    "plt.title('model accuracy')\n",
    "plt.ylabel('accuracy')\n",
    "plt.xlabel('epoch')\n",
    "plt.legend(['train', 'test'], loc='upper left')\n",
    "plt.show()"
   ]
  },
  {
   "cell_type": "markdown",
   "metadata": {
    "id": "i5YLgEGyXTOP"
   },
   "source": [
    "1. Model can be tuned more.\n",
    "2. accuracy of NN is 78%\n",
    "3. loss is 0.7214"
   ]
  },
  {
   "cell_type": "code",
   "execution_count": null,
   "metadata": {
    "id": "gTrYGNrKXLbl"
   },
   "outputs": [],
   "source": []
  }
 ],
 "metadata": {
  "accelerator": "GPU",
  "colab": {
   "provenance": []
  },
  "gpuClass": "standard",
  "kernelspec": {
   "display_name": "Python 3 (ipykernel)",
   "language": "python",
   "name": "python3"
  },
  "language_info": {
   "codemirror_mode": {
    "name": "ipython",
    "version": 3
   },
   "file_extension": ".py",
   "mimetype": "text/x-python",
   "name": "python",
   "nbconvert_exporter": "python",
   "pygments_lexer": "ipython3",
   "version": "3.9.13"
  }
 },
 "nbformat": 4,
 "nbformat_minor": 1
}
